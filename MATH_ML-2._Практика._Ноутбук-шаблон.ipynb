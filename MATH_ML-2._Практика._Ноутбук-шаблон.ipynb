{
  "cells": [
    {
      "cell_type": "markdown",
      "id": "b054bd88",
      "metadata": {
        "id": "b054bd88"
      },
      "source": [
        "# <center> Линейная алгебра в контексте линейных методов. Практика.\n",
        "\n",
        "## <center> Прогнозирование выработки газа на скважинах."
      ]
    },
    {
      "cell_type": "markdown",
      "id": "325bc80b",
      "metadata": {
        "id": "325bc80b"
      },
      "source": [
        "## Постановка задачи"
      ]
    },
    {
      "cell_type": "markdown",
      "id": "8247bd54",
      "metadata": {
        "id": "8247bd54"
      },
      "source": [
        "У Василия, основателя компании «Газ-Таз-Ваз-Нефть», дела идут в гору: у него уже функционирует 200 скважин для добычи газа. В этом году он открывает 30 новых скважин. Однако в целях оптимизации расходов и повышения дохода Василию необходимо оценить, сколько денег будет приносить ему каждая из скважин, а также понять, какие факторы (параметры скважин) потенциально сильнее всего повлияют на объём добычи газа. Для этого Василий решил нанять вас как специалиста в области Data Science.\n",
        "\n",
        "Василий представляет вам набор данных о добыче газа на своих скважинах. Файл с данными вы можете скачать на платформе.\n",
        "\n",
        "**Признаки в данных:**\n",
        "\n",
        "* Well — идентификатор скважины;\n",
        "* Por — пористость скважины (%);\n",
        "* Perm — проницаемость скважины;\n",
        "* AI — акустический импеданс ($кг/м^2 * 10^6$);\n",
        "* Brittle — коэффициент хрупкости скважины (%);\n",
        "* TOC — общий органический углерод (%);\n",
        "* VR — коэффициент отражения витринита (%);\n",
        "* Prod — добыча газа в сутки (млн. кубических футов).\n",
        "\n",
        "**Ваша задача** — построить регрессионную модель, которая прогнозирует выработку газа на скважине (целевой признак — Prod) на основе остальных характеристик скважины, и проинтерпретировать результаты вашей модели.\n",
        "\n",
        "Разделим задачу на две части:\n",
        "* В первой мы построим простейшую модель линейной регрессии, проанализируем результаты её работы и выберем наиболее значимые факторы для прогнозирования.\n",
        "* Во второй мы займёмся построением модели полиномиальной регрессии с регуляризацией и посмотрим на итоговые результаты моделирования.\n"
      ]
    },
    {
      "cell_type": "markdown",
      "id": "d67d069e",
      "metadata": {
        "id": "d67d069e"
      },
      "source": [
        "Импортируем необходимые библиотеки:"
      ]
    },
    {
      "cell_type": "code",
      "execution_count": 1,
      "id": "83a555bc-8dff-4b7e-bba1-cd4f4a9e69b2",
      "metadata": {
        "id": "83a555bc-8dff-4b7e-bba1-cd4f4a9e69b2"
      },
      "outputs": [],
      "source": [
        "# Импорт библиотек\n",
        "import numpy as np # для работы с массивами\n",
        "import pandas as pd # для работы с DataFrame \n",
        "import seaborn as sns # библиотека для визуализации статистических данных\n",
        "import matplotlib.pyplot as plt # для построения графиков\n",
        "\n",
        "%matplotlib inline"
      ]
    },
    {
      "cell_type": "markdown",
      "id": "e689ddaf",
      "metadata": {
        "id": "e689ddaf"
      },
      "source": [
        "Прочитаем исходные данные:"
      ]
    },
    {
      "cell_type": "code",
      "execution_count": 2,
      "id": "b7b5cd9b-703f-4dbc-a6e3-61d583eafcac",
      "metadata": {
        "colab": {
          "base_uri": "https://localhost:8080/",
          "height": 206
        },
        "id": "b7b5cd9b-703f-4dbc-a6e3-61d583eafcac",
        "outputId": "d4e99a48-2a0d-4edd-f86c-617c44bf36d2"
      },
      "outputs": [
        {
          "data": {
            "text/html": [
              "<div>\n",
              "<style scoped>\n",
              "    .dataframe tbody tr th:only-of-type {\n",
              "        vertical-align: middle;\n",
              "    }\n",
              "\n",
              "    .dataframe tbody tr th {\n",
              "        vertical-align: top;\n",
              "    }\n",
              "\n",
              "    .dataframe thead th {\n",
              "        text-align: right;\n",
              "    }\n",
              "</style>\n",
              "<table border=\"1\" class=\"dataframe\">\n",
              "  <thead>\n",
              "    <tr style=\"text-align: right;\">\n",
              "      <th></th>\n",
              "      <th>Well</th>\n",
              "      <th>Por</th>\n",
              "      <th>Perm</th>\n",
              "      <th>AI</th>\n",
              "      <th>Brittle</th>\n",
              "      <th>TOC</th>\n",
              "      <th>VR</th>\n",
              "      <th>Prod</th>\n",
              "    </tr>\n",
              "  </thead>\n",
              "  <tbody>\n",
              "    <tr>\n",
              "      <th>0</th>\n",
              "      <td>1</td>\n",
              "      <td>12.08</td>\n",
              "      <td>2.92</td>\n",
              "      <td>2.80</td>\n",
              "      <td>81.40</td>\n",
              "      <td>1.16</td>\n",
              "      <td>2.31</td>\n",
              "      <td>4165.196191</td>\n",
              "    </tr>\n",
              "    <tr>\n",
              "      <th>1</th>\n",
              "      <td>2</td>\n",
              "      <td>12.38</td>\n",
              "      <td>3.53</td>\n",
              "      <td>3.22</td>\n",
              "      <td>46.17</td>\n",
              "      <td>0.89</td>\n",
              "      <td>1.88</td>\n",
              "      <td>3561.146205</td>\n",
              "    </tr>\n",
              "    <tr>\n",
              "      <th>2</th>\n",
              "      <td>3</td>\n",
              "      <td>14.02</td>\n",
              "      <td>2.59</td>\n",
              "      <td>4.01</td>\n",
              "      <td>72.80</td>\n",
              "      <td>0.89</td>\n",
              "      <td>2.72</td>\n",
              "      <td>4284.348574</td>\n",
              "    </tr>\n",
              "    <tr>\n",
              "      <th>3</th>\n",
              "      <td>4</td>\n",
              "      <td>17.67</td>\n",
              "      <td>6.75</td>\n",
              "      <td>2.63</td>\n",
              "      <td>39.81</td>\n",
              "      <td>1.08</td>\n",
              "      <td>1.88</td>\n",
              "      <td>5098.680869</td>\n",
              "    </tr>\n",
              "    <tr>\n",
              "      <th>4</th>\n",
              "      <td>5</td>\n",
              "      <td>17.52</td>\n",
              "      <td>4.57</td>\n",
              "      <td>3.18</td>\n",
              "      <td>10.94</td>\n",
              "      <td>1.51</td>\n",
              "      <td>1.90</td>\n",
              "      <td>3406.132832</td>\n",
              "    </tr>\n",
              "  </tbody>\n",
              "</table>\n",
              "</div>"
            ],
            "text/plain": [
              "   Well    Por  Perm    AI  Brittle   TOC    VR         Prod\n",
              "0     1  12.08  2.92  2.80    81.40  1.16  2.31  4165.196191\n",
              "1     2  12.38  3.53  3.22    46.17  0.89  1.88  3561.146205\n",
              "2     3  14.02  2.59  4.01    72.80  0.89  2.72  4284.348574\n",
              "3     4  17.67  6.75  2.63    39.81  1.08  1.88  5098.680869\n",
              "4     5  17.52  4.57  3.18    10.94  1.51  1.90  3406.132832"
            ]
          },
          "execution_count": 2,
          "metadata": {},
          "output_type": "execute_result"
        }
      ],
      "source": [
        "data = pd.read_csv('unconv.csv')\n",
        "data.head()"
      ]
    },
    {
      "cell_type": "markdown",
      "id": "58639b40",
      "metadata": {
        "id": "58639b40"
      },
      "source": [
        "## Практика: линейная регрессия по методу наименьших квадратов"
      ]
    },
    {
      "cell_type": "markdown",
      "id": "a90535b8",
      "metadata": {
        "id": "a90535b8"
      },
      "source": [
        "Для начала построим простейшую модель линейной регрессии, проанализируем результаты её работы и выберем наиболее значимые факторы для прогнозирования.\n",
        "\n",
        "В первой части вам предстоит выполнить задания 5.0–5.6. Максимальное количество баллов, которое можно получить, — 9."
      ]
    },
    {
      "cell_type": "markdown",
      "id": "4061b706",
      "metadata": {
        "id": "4061b706"
      },
      "source": [
        "### Задание 5.0. (не оценивается)\n",
        "\n",
        "Проведите небольшой разведывательный анализ, чтобы поближе познакомиться с исходными данными. Постройте несколько визуализаций, которые помогут вам понять, как устроены исходные признаки, а также смогут продемонстрировать взаимосвязь факторов. \n",
        "\n",
        "Сделайте промежуточные выводы из проведённого разведывательного анализа."
      ]
    },
    {
      "cell_type": "code",
      "execution_count": 3,
      "id": "daf1ccc7",
      "metadata": {
        "id": "daf1ccc7"
      },
      "outputs": [
        {
          "data": {
            "text/html": [
              "<div>\n",
              "<style scoped>\n",
              "    .dataframe tbody tr th:only-of-type {\n",
              "        vertical-align: middle;\n",
              "    }\n",
              "\n",
              "    .dataframe tbody tr th {\n",
              "        vertical-align: top;\n",
              "    }\n",
              "\n",
              "    .dataframe thead th {\n",
              "        text-align: right;\n",
              "    }\n",
              "</style>\n",
              "<table border=\"1\" class=\"dataframe\">\n",
              "  <thead>\n",
              "    <tr style=\"text-align: right;\">\n",
              "      <th></th>\n",
              "      <th>Well</th>\n",
              "      <th>Por</th>\n",
              "      <th>Perm</th>\n",
              "      <th>AI</th>\n",
              "      <th>Brittle</th>\n",
              "      <th>TOC</th>\n",
              "      <th>VR</th>\n",
              "      <th>Prod</th>\n",
              "    </tr>\n",
              "  </thead>\n",
              "  <tbody>\n",
              "    <tr>\n",
              "      <th>count</th>\n",
              "      <td>200.000000</td>\n",
              "      <td>200.000000</td>\n",
              "      <td>200.000000</td>\n",
              "      <td>200.000000</td>\n",
              "      <td>200.000000</td>\n",
              "      <td>200.000000</td>\n",
              "      <td>200.000000</td>\n",
              "      <td>200.000000</td>\n",
              "    </tr>\n",
              "    <tr>\n",
              "      <th>mean</th>\n",
              "      <td>100.500000</td>\n",
              "      <td>14.991150</td>\n",
              "      <td>4.330750</td>\n",
              "      <td>2.968850</td>\n",
              "      <td>48.161950</td>\n",
              "      <td>0.990450</td>\n",
              "      <td>1.964300</td>\n",
              "      <td>4311.219852</td>\n",
              "    </tr>\n",
              "    <tr>\n",
              "      <th>std</th>\n",
              "      <td>57.879185</td>\n",
              "      <td>2.971176</td>\n",
              "      <td>1.731014</td>\n",
              "      <td>0.566885</td>\n",
              "      <td>14.129455</td>\n",
              "      <td>0.481588</td>\n",
              "      <td>0.300827</td>\n",
              "      <td>992.038414</td>\n",
              "    </tr>\n",
              "    <tr>\n",
              "      <th>min</th>\n",
              "      <td>1.000000</td>\n",
              "      <td>6.550000</td>\n",
              "      <td>1.130000</td>\n",
              "      <td>1.280000</td>\n",
              "      <td>10.940000</td>\n",
              "      <td>-0.190000</td>\n",
              "      <td>0.930000</td>\n",
              "      <td>2107.139414</td>\n",
              "    </tr>\n",
              "    <tr>\n",
              "      <th>25%</th>\n",
              "      <td>50.750000</td>\n",
              "      <td>12.912500</td>\n",
              "      <td>3.122500</td>\n",
              "      <td>2.547500</td>\n",
              "      <td>37.755000</td>\n",
              "      <td>0.617500</td>\n",
              "      <td>1.770000</td>\n",
              "      <td>3618.064513</td>\n",
              "    </tr>\n",
              "    <tr>\n",
              "      <th>50%</th>\n",
              "      <td>100.500000</td>\n",
              "      <td>15.070000</td>\n",
              "      <td>4.035000</td>\n",
              "      <td>2.955000</td>\n",
              "      <td>49.510000</td>\n",
              "      <td>1.030000</td>\n",
              "      <td>1.960000</td>\n",
              "      <td>4284.687348</td>\n",
              "    </tr>\n",
              "    <tr>\n",
              "      <th>75%</th>\n",
              "      <td>150.250000</td>\n",
              "      <td>17.402500</td>\n",
              "      <td>5.287500</td>\n",
              "      <td>3.345000</td>\n",
              "      <td>58.262500</td>\n",
              "      <td>1.350000</td>\n",
              "      <td>2.142500</td>\n",
              "      <td>5086.089761</td>\n",
              "    </tr>\n",
              "    <tr>\n",
              "      <th>max</th>\n",
              "      <td>200.000000</td>\n",
              "      <td>23.550000</td>\n",
              "      <td>9.870000</td>\n",
              "      <td>4.630000</td>\n",
              "      <td>84.330000</td>\n",
              "      <td>2.180000</td>\n",
              "      <td>2.870000</td>\n",
              "      <td>6662.622385</td>\n",
              "    </tr>\n",
              "  </tbody>\n",
              "</table>\n",
              "</div>"
            ],
            "text/plain": [
              "             Well         Por        Perm          AI     Brittle         TOC  \\\n",
              "count  200.000000  200.000000  200.000000  200.000000  200.000000  200.000000   \n",
              "mean   100.500000   14.991150    4.330750    2.968850   48.161950    0.990450   \n",
              "std     57.879185    2.971176    1.731014    0.566885   14.129455    0.481588   \n",
              "min      1.000000    6.550000    1.130000    1.280000   10.940000   -0.190000   \n",
              "25%     50.750000   12.912500    3.122500    2.547500   37.755000    0.617500   \n",
              "50%    100.500000   15.070000    4.035000    2.955000   49.510000    1.030000   \n",
              "75%    150.250000   17.402500    5.287500    3.345000   58.262500    1.350000   \n",
              "max    200.000000   23.550000    9.870000    4.630000   84.330000    2.180000   \n",
              "\n",
              "               VR         Prod  \n",
              "count  200.000000   200.000000  \n",
              "mean     1.964300  4311.219852  \n",
              "std      0.300827   992.038414  \n",
              "min      0.930000  2107.139414  \n",
              "25%      1.770000  3618.064513  \n",
              "50%      1.960000  4284.687348  \n",
              "75%      2.142500  5086.089761  \n",
              "max      2.870000  6662.622385  "
            ]
          },
          "execution_count": 3,
          "metadata": {},
          "output_type": "execute_result"
        },
        {
          "data": {
            "image/png": "[encoded data removed]",
            "text/plain": [
              "<Figure size 1200x800 with 9 Axes>"
            ]
          },
          "metadata": {},
          "output_type": "display_data"
        }
      ],
      "source": [
        "# Ваш код здесь\n",
        "\n",
        "summary_log = pd.DataFrame(columns= ['Alpha','L1_ratio','Polynomial','MAE_train', 'MAE_test'])\n",
        "\n",
        "data.hist(figsize=(12,8));\n",
        "\n",
        "data.describe()\n"
      ]
    },
    {
      "cell_type": "markdown",
      "metadata": {},
      "source": [
        "ВЫВОД: Все параметры представлены числовыми признаками, пропуски отсутсвуют, распределение признаков за исключением Well близкое к нормальному, распределение Well равномерное, т.е. для всех скважин колчество наблюдений одинково. "
      ]
    },
    {
      "cell_type": "markdown",
      "id": "d11cb44f",
      "metadata": {
        "id": "d11cb44f"
      },
      "source": [
        "### Задание 5.1. (2 балла)\n",
        "\n",
        "Постройте корреляционную матрицу факторов, включив в неё целевой признак. \n",
        "\n",
        "Для наглядности визуализируйте полученную матрицу с помощью тепловой карты. \n",
        "\n",
        "**Примечание.** *Для визуализации вы можете использовать любую из знакомых вам библиотек.*\n",
        "\n",
        "На основе построенной корреляционной матрицы ответьте на следующий вопрос:\n",
        "\n",
        "* Какие факторы сильнее всего коррелируют с целевой переменной?\n",
        "\n",
        "Вычислите ранг и определитель полученной матрицы корреляций и приведите развёрнутые ответы на следующие вопросы:\n",
        "* Является ли корреляционная матрица плохо обусловенной (близок ли её опредитель к нулю)?\n",
        "* Что вы можете сказать о наличии коллинераности/мультиколлинеарности в данных? \n",
        "* Применима ли в данном случае модель классической линейной регрессии по методу наименьших квадратов и почему? "
      ]
    },
    {
      "cell_type": "markdown",
      "id": "57OjUl5e2oiL",
      "metadata": {
        "id": "57OjUl5e2oiL"
      },
      "source": [
        "**Критерии оценивания:**\n",
        "- Задание выполнено верно, учтены все условия (**2 балла**): \n",
        "    * приведён код для расчёта корреляционной матрицы;\n",
        "    * приведён код для визуализации корреляционной матрицы в виде тепловой карты;\n",
        "    * рассчитаны ранг и определитель корреляционной матрицы;\n",
        "    * предоставлены обоснованные ответы на все поставленные вопросы. \n",
        "\n",
        "- Задание выполнено верно, но не учтено одно условие (**1 балл**).\n",
        "- Задание выполнено неверно, не учтено несколько условий (**0 баллов**)."
      ]
    },
    {
      "cell_type": "code",
      "execution_count": 4,
      "id": "af00a5a0",
      "metadata": {
        "id": "af00a5a0"
      },
      "outputs": [
        {
          "name": "stdout",
          "output_type": "stream",
          "text": [
            "Ранг матрицы корреляции = 8\n",
            "Определитель матрицы корреляции = 0.00073\n",
            "Определитель матрицы корреляции без целевого признака = 0.00075\n"
          ]
        },
        {
          "data": {
            "image/png": "[encoded data removed]",
            "text/plain": [
              "<Figure size 640x480 with 2 Axes>"
            ]
          },
          "metadata": {},
          "output_type": "display_data"
        }
      ],
      "source": [
        "# Ваш код здесь\n",
        "\n",
        "corr=data.corr()\n",
        "\n",
        "sns.heatmap(corr, annot = True);\n",
        "\n",
        "print('Ранг матрицы корреляции =', np.linalg.matrix_rank(corr))\n",
        "print('Определитель матрицы корреляции = {det:.2}'.format(det=np.linalg.det(corr)))\n",
        "print('Определитель матрицы корреляции без целевого признака = {det:.2}'.format(det=np.linalg.det(data.drop(['Well'], axis=1).corr())))"
      ]
    },
    {
      "cell_type": "markdown",
      "id": "9a56013d",
      "metadata": {
        "id": "9a56013d"
      },
      "source": [
        "> *Ваши выводы здесь*\n",
        "\n",
        "Мультиколлинеарность достаточно выражена, наибольшую корреляцию с целевой переменной показывают Por (0.85) и Perm(0.73). Полученная матрица корреляции плохо обусловлена, ее определитель близок к нулю, хотя и отличен от нуля. Классическая модель линейной регрессии может столкнуться с проблемами при ограниченной точности вычислений - полученные коэффициенты могут быть очень большими и значительно искаженными."
      ]
    },
    {
      "cell_type": "markdown",
      "id": "43fd91c4",
      "metadata": {
        "id": "43fd91c4"
      },
      "source": [
        "### Задание 5.2. (2 балла)\n",
        "\n",
        "Создайте матрицу наблюдений `X` и вектор правильных ответов `y`. В качестве факторов для матрицы наблюдений возьмите все имеющиеся в данных признаки. \n",
        "\n",
        "Постройте модель линейной регрессии по методу наименьших квадратов. Для этого воспользуйтесь матричной формулой МНК и инструментарием библиотеки numpy. \n",
        "\n",
        "Выведите на экран полученные оценки коэффициентов модели, округлённые до целого.\n",
        "\n",
        "Приведите подробные выводы по полученным результатам, ответив на следующие вопросы:\n",
        "* Есть ли в ваших данных признаки, которые, согласно модели, можно назвать неинформативными, то есть они не оказывают влияния на целевую переменную или оказывают шумовое влияние?\n",
        "* Приведите интерпретацию нескольких (двух или трёх) коэффициентов полученной модели линейной регрессии.\n"
      ]
    },
    {
      "cell_type": "markdown",
      "id": "QtNtTUzI4Cpq",
      "metadata": {
        "id": "QtNtTUzI4Cpq"
      },
      "source": [
        "**Критерии оценивания:**\n",
        "- Задание выполнено верно, учтены все условия (**2 балла**): \n",
        "    * приведён код для нахождения параметров модели линейной регрессии с помощью матричной формулы МНК;\n",
        "    * на основе полученных параметров даны верные ответы на поставленные вопросы;\n",
        "    * приведена корректная интерпретация нескольких коэффициентов полученной модели линейной регрессии.\n",
        "\n",
        "- Задание выполнено верно, но не учтено одно из условий (**1 балл**).\n",
        "- Задание выполнено неверно, не учтено несколько условий (**0 баллов**)."
      ]
    },
    {
      "cell_type": "code",
      "execution_count": 5,
      "id": "5724288c",
      "metadata": {
        "id": "5724288c"
      },
      "outputs": [
        {
          "name": "stdout",
          "output_type": "stream",
          "text": [
            "A=\n",
            " [[ 1.000e+00  1.000e+00  1.208e+01 ...  8.140e+01  1.160e+00  2.310e+00]\n",
            " [ 1.000e+00  2.000e+00  1.238e+01 ...  4.617e+01  8.900e-01  1.880e+00]\n",
            " [ 1.000e+00  3.000e+00  1.402e+01 ...  7.280e+01  8.900e-01  2.720e+00]\n",
            " ...\n",
            " [ 1.000e+00  1.980e+02  1.212e+01 ...  5.707e+01 -4.000e-02  1.730e+00]\n",
            " [ 1.000e+00  1.990e+02  1.555e+01 ...  5.825e+01  1.890e+00  2.350e+00]\n",
            " [ 1.000e+00  2.000e+02  2.089e+01 ...  4.617e+01  1.710e+00  2.270e+00]]\n",
            "Коэффициенты по OLS \n",
            "    Intercept  Well  Por  Perm   AI  Brittle  TOC   VR\n",
            "W      -1232     0  230   116 -365       24  -78  785\n",
            "Predicted random observation Prod = 5184.0 ; acutal Prod 5086.0\n"
          ]
        }
      ],
      "source": [
        "# Ваш код здесь\n",
        "X = data.drop(['Prod'], axis=1)\n",
        "y = data['Prod']\n",
        "\n",
        "# составляем матрицу А \n",
        "A = np.column_stack((np.ones(len(data)), X))\n",
        "print(\"A=\\n\",A)\n",
        "\n",
        "# вычислим OLS-оценку для коэффициентов\n",
        "W = np.linalg.inv(A.T@A)@A.T@y\n",
        "\n",
        "feature_names = ['Intercept']+list(X.columns)\n",
        "W=pd.DataFrame(W,index=feature_names,columns=(['W']))\n",
        "print('Коэффициенты по OLS \\n', W.astype('int').T)\n",
        "\n",
        "num=np.random.randint(200)\n",
        "c=A[num]*W.T\n",
        "print('Predicted random observation Prod =',c.loc['W'].sum().round(0),'; acutal Prod',y[num].round(0))"
      ]
    },
    {
      "cell_type": "markdown",
      "id": "bab9ee21",
      "metadata": {
        "id": "bab9ee21"
      },
      "source": [
        "> *Ваши выводы здесь*\n",
        "\n",
        "Опасения получить неопределенную систему не оправдались, коэффициенты регрессии значимы и находятся в нормальном диапазоне значений. Идентификатор скважины Well, ожидаемо, не оказывает влияния на целевую переменную (коэффициент 0), коэффициенты Brittle и TOC оказывают наименьшее влияние - Well, Brittel и TOC не инморфмативные или малоинформативные, а VR и AI наиболее информативные. По знаку коэффициент мы можем сделать вывод, что чем больше аккустическое сопротивление AI, тем меньше продуктивность скважины."
      ]
    },
    {
      "cell_type": "markdown",
      "id": "4a05a4ac",
      "metadata": {
        "id": "4a05a4ac"
      },
      "source": [
        "### Задание 5.3. (1 балл)\n",
        "\n",
        "Теперь потренируемся строить предсказание для наблюдений целевой переменной. \n",
        "\n",
        "**а)** Постройте прогноз выработки газа для скважины со следующими параметрами:\n",
        "\n",
        "```python\n",
        "{\n",
        "    'Well': 106.0,\n",
        "    'Por': 15.32,\n",
        "    'Perm': 3.71,\n",
        "    'AI': 3.29,\n",
        "    'Brittle': 55.99,\n",
        "    'TOC': 1.35,\n",
        "    'VR': 2.42\n",
        " }\n",
        "```\n",
        "\n",
        "Рассчитайте абсолютную ошибку построенного вами прогноза для предложенной скважины (в миллионах кубических футов в день), если известно, что на этой скважине производится `4748.315024` миллионов кубических футов газа в день. \n",
        "\n",
        "**б)** Постройте прогноз выработки газа для всех скважин из обучающего набора данных. Выберите метрику, по которой вы будете оценивать качество регрессионных моделей и сравнивать их между собой (можно использовать несколько метрик, но не более двух).\n",
        "\n",
        "Рассчитайте значение выбранной метрики для вашей модели. Приведите интерпретацию полученного результата. "
      ]
    },
    {
      "cell_type": "markdown",
      "id": "qUDcep5Q5GWU",
      "metadata": {
        "id": "qUDcep5Q5GWU"
      },
      "source": [
        "**Критерии оценивания:**\n",
        "- Задание выполнено верно, учтены все условия (**1 балл**): \n",
        "    * приведён код для построения прогноза выработки газа на указанной скважине и рассчитана абсолютная ошибка прогноза для этой скважины;\n",
        "    * выбрана корректная для поставленной задачи метрика (или метрики) оценки качества модели и приведён код для расчёта этой метрики на всём обучающем наборе данных;\n",
        "    * приведена корректная интерпретация полученного результата.\n",
        "\n",
        "- Задание выполнено верно, но не учтено одно из условий, или задание выполнено неверно (**0 баллов**)."
      ]
    },
    {
      "cell_type": "code",
      "execution_count": 6,
      "id": "e4291db0",
      "metadata": {
        "id": "e4291db0"
      },
      "outputs": [
        {
          "name": "stdout",
          "output_type": "stream",
          "text": [
            "Прогноз из примера = 4723.0641, абсолютная ошибка = 25.2510, отклонение от факта = 0.53%\n",
            "\n",
            "Mean Absolute Error = 150.7377\n",
            "R2_score = 0.960434\n",
            "R2_score from sklearn =  0.9599\n"
          ]
        }
      ],
      "source": [
        "# Ваш код здесь\n",
        "\n",
        "example={\n",
        "    'Intercept':[1],\n",
        "    'Well': [106.0],\n",
        "    'Por': [15.32],\n",
        "    'Perm': [3.71],\n",
        "    'AI': [3.29],\n",
        "    'Brittle': [55.99],\n",
        "    'TOC': [1.35],\n",
        "    'VR': [2.42]\n",
        " }\n",
        "x_example = pd.DataFrame(example)\n",
        "y_example = 4748.315024\n",
        "y_pred_example=(x_example@W)['W'][0]\n",
        "\n",
        "print('Прогноз из примера = {0:.4f}, абсолютная ошибка = {1:0.4f}, отклонение от факта = {2:.2f}%\\n'.format(y_pred_example,y_example-y_pred_example, (y_example-y_pred_example)*100/y_example))\n",
        "\n",
        "# Прогноз для всех скважин\n",
        "\n",
        "y_pred = (A@W)\n",
        "\n",
        "def regression_metrics(y_pred,y):\n",
        "  \n",
        "  absolute_difference = 0\n",
        "  n = len(y) # finding total number of items in list\n",
        "  y_mean = y.mean()\n",
        "  ss_t = 0\n",
        "  ss_r = 0\n",
        "\n",
        "  for i in range (0,n-1):  #looping through each element of the list\n",
        "    difference = y.iloc[i] - y_pred.iloc[i,0]\n",
        "    absolute_difference += abs(difference)\n",
        "    ss_r += difference**2 #The sum of squares of residuals\n",
        "    ss_t += (y[i]-y_mean)**2 #The total sum of squares (proportional to the variance of the data)\n",
        "\n",
        "  MAE = absolute_difference/n\n",
        "  R2_SCORE = 1 - (ss_r/ss_t)\n",
        "\n",
        "  print (\"Mean Absolute Error = {:.4f}\".format(MAE))\n",
        "  print('R2_score = {:4f}'.format(R2_SCORE))\n",
        "\n",
        "  from sklearn.metrics import r2_score\n",
        "  print ('R2_score from sklearn = ',round(r2_score(y, y_pred),4))\n",
        "\n",
        "  return MAE\n",
        "\n",
        "MAE = regression_metrics(y_pred,y)\n",
        "\n",
        "# запишем результат\n",
        "# columns= ['Alpha','L1_ratio','Polynomial','MAE_train', 'MAE_test']\n",
        "\n",
        "summary_log.loc['МНК'] = ['n/a','n/a',False,MAE,'n/a']"
      ]
    },
    {
      "attachments": {},
      "cell_type": "markdown",
      "id": "c9bee4bc",
      "metadata": {
        "id": "c9bee4bc"
      },
      "source": [
        "> *Ваши выводы здесь*\n",
        "1) Абсолютная обшибка из заданного примера 25.25 (в миллионах кубических футов в день).\n",
        "\n",
        "2) Воспользуемся MAE = 0.25 и R2_score = 0.9512, рассчитанного по стандартной формуле. R2_score в пакете sklearn несколько отличается, так как в sklearn используется другой алгоритм расчета.\n",
        "\n",
        "Мы еще раз убедились, что полученная модель линейной регрессии определена и достаточно хорошо описывает поведение целевой переменной в массиве наблюдений. На это указывает невысокое значение абсолютной ошибки и близкий к единице коэффициент R2_score, который можно интерпретировать таким образом, что более 95% наблюдений хорошо объясняются полученной моделью.\n"
      ]
    },
    {
      "cell_type": "markdown",
      "id": "0c25c3aa",
      "metadata": {
        "id": "0c25c3aa"
      },
      "source": [
        "### Задание 5.4. (1 балл)\n",
        "\n",
        "Настало время анализа построенной модели. Посмотрите на коэффициенты и сравните их знаки со значениями выборочных корреляций между целевым признаком и факторами, которые вы нашли ранее.\n",
        "\n",
        "Дайте развёрнутые ответы на следующие вопросы:\n",
        "\n",
        "* Есть ли в вашей модели фактор, при котором коэффициент в модели линейной регрессии противоречит соответствующему коэффициенту корреляции? Например, корреляция говорит, что зависимость между фактором и целевой переменной прямая, а модель говорит обратное. Если таких факторов несколько, укажите их все.\n",
        "* Как вы считаете, с чем связано полученное противоречие результатов?"
      ]
    },
    {
      "cell_type": "markdown",
      "id": "ngJ3UdYb6Ll6",
      "metadata": {
        "id": "ngJ3UdYb6Ll6"
      },
      "source": [
        "**Критерии оценивания:**\n",
        "\n",
        "- Задание выполнено верно, даны корректные развёрнутые ответы на все поставленные в задании вопросы (**1 балл**). \n",
        "\n",
        "- Задание выполнено неверно, даны некорректные ответы на один или несколько поставленных в задании вопросов (**0 баллов**)."
      ]
    },
    {
      "cell_type": "code",
      "execution_count": 7,
      "id": "v-zIxRPY9wK7",
      "metadata": {
        "id": "v-zIxRPY9wK7"
      },
      "outputs": [
        {
          "name": "stdout",
          "output_type": "stream",
          "text": [
            "Знак коэффициент корреляции 'TOC'=0.7 не совпадает со знаком коэффициента регрессии -78.4\n"
          ]
        }
      ],
      "source": [
        "# Ваш код здесь\n",
        "\n",
        "for i in list(X.columns):\n",
        "    if np.sign(corr[i]['Prod'])!= np.sign(W.loc[i]['W']): print(\"Знак коэффициент корреляции '{0}'={1:.0} не совпадает со знаком коэффициента регрессии {2:.1f}\".format(\n",
        "        i,corr[i]['Prod'], W.loc[i]['W']))\n",
        "\n"
      ]
    },
    {
      "attachments": {},
      "cell_type": "markdown",
      "id": "qeowwIp99yBf",
      "metadata": {
        "id": "qeowwIp99yBf"
      },
      "source": [
        "> *Ваши выводы здесь*\n",
        "\n",
        "TOC имеет положительную корреляцию с целевой переменной, однако коэффициент регрессии отрицательный. Вероятно, это связано с масштабом признаков и влиянием Intercept."
      ]
    },
    {
      "cell_type": "markdown",
      "id": "9cea9195",
      "metadata": {
        "id": "9cea9195"
      },
      "source": [
        "### Задание 5.5. (2 балла)\n",
        "\n",
        "* Исключите из данных сильно коррелированные между собой факторы. Под сильной корреляцией в данной задаче будем понимать значения выше `0.7`.\n",
        "\n",
        "Выбирая, какой из коррелированных факторов оставить, руководствуйтесь коэффициентом корреляции с целевой переменной: оставляйте тот фактор, который больше всего коррелирует с целевой переменной (объёмом добычи газа).\n",
        "\n",
        "* Также исключите из данных факторы, для которых корреляция с целевой переменной меньше `0.05`.\n",
        "\n",
        "Постройте модель линейной регрессии на обновлённых после удаления факторов данных по методу наименьших квадратов. Для этого используйте матричную формулу и библиотеку numpy. Выведите значение полученных коэффициентов, округлённых до целого.\n",
        "\n",
        "Сделайте прогноз для всего обучающего набора данных и рассчитайте выбранную вами ранее метрику (или метрики). \n",
        "\n",
        "Дайте подробные ответы на следующие вопросы:\n",
        "\n",
        "* Приведите интерпретацию нескольких полученных коэффициентов (двух или трёх). Сравните их значения с полученными ранее.\n",
        "* Приведите интерпретацию полученных значений метрик. Сравните их значения с полученными ранее. \n",
        "* Удалось ли вам побороть противоречие коэффициентов линейной регрессии и коэффициентов корреляции?"
      ]
    },
    {
      "cell_type": "markdown",
      "id": "vlUYVjJP6oXN",
      "metadata": {
        "id": "vlUYVjJP6oXN"
      },
      "source": [
        "**Критерии оценивания:**\n",
        "- Задание выполнено верно, учтены все условия (**2 балла**): \n",
        "    * отобраны верные факторы;\n",
        "    * на основе отобранных факторов построена модель линейной регрессии с помощью матричной формулы МНК и найдены параметры модели, соответствующие каждому из факторов;\n",
        "    * построен прогноз для всего обучающего набора данных и рассчитано значение метрики (метрика должна быть выбрана корректно);\n",
        "    * даны ответы на все поставленные в задании вопросы.\n",
        "\n",
        "- Задание выполнено верно, но не учтено одно из условий (**1 балл**).\n",
        "- Задание выполнено верно, не учтено несколько из условий (**0 баллов**)."
      ]
    },
    {
      "cell_type": "code",
      "execution_count": 8,
      "id": "5d5ZJ0lX_UHe",
      "metadata": {
        "id": "5d5ZJ0lX_UHe"
      },
      "outputs": [
        {
          "name": "stdout",
          "output_type": "stream",
          "text": [
            "corr(Por,Perm)=0.76; corr(Por,'Prod')=0.86,corr(Perm,'Prod')=0.73\n",
            "corr(Por,TOC)=0.71; corr(Por,'Prod')=0.86,corr(TOC,'Prod')=0.65\n",
            "Факторы для удаления ['Perm', 'TOC', 'Well', 'Prod']\n",
            "Коэффициенты по OLS \n",
            "       Intercept  Por   AI  Brittle   VR\n",
            "W_ex      -1835  293 -200       27  517\n",
            "Mean Absolute Error = 168.5717\n",
            "R2_score = 0.945327\n",
            "R2_score from sklearn =  0.9452\n"
          ]
        }
      ],
      "source": [
        "# Ваш код здесь\n",
        "\n",
        "# Найдем пары с взаимной корреляцией большое 0.7\n",
        "for i in range(0,len(corr)-1):\n",
        "    for j in range(i+1,len(corr)-1):\n",
        "        if corr.iloc[i,j]>0.7:\n",
        "            print(\"corr({i},{j})={coef:.2f}; corr({i},'Prod')={ip:.2f},corr({j},'Prod')={jp:.2f}\".format(coef=corr.iloc[i,j], i=corr.index[i], j=corr.index[j],ip=corr.iloc[i]['Prod'],jp=corr.iloc[j]['Prod']))\n",
        "\n",
        "# признаки для удаления\n",
        "\n",
        "excluded_columns = ['Perm','TOC','Well','Prod']\n",
        "\n",
        "print('Факторы для удаления', excluded_columns)\n",
        "\n",
        "X_ex = data.drop(excluded_columns, axis=1)\n",
        "y = data['Prod']\n",
        "\n",
        "# составляем матрицу А \n",
        "A_ex = np.column_stack((np.ones(len(data)), X_ex))\n",
        "\n",
        "#print(\"A=\\n\",A_ex)\n",
        "\n",
        "# вычислим OLS-оценку для коэффициентов\n",
        "W_ex = np.linalg.inv(A_ex.T@A_ex)@A_ex.T@y\n",
        "\n",
        "ex_feature_names = ['Intercept']+list(X_ex.columns)\n",
        "W_ex=pd.DataFrame(W_ex,index=ex_feature_names,columns=(['W_ex']))\n",
        "print('Коэффициенты по OLS \\n', W_ex.astype('int').T)\n",
        "\n",
        "# рассчитываем целевую переменную по полученной модели\n",
        "y_pred_ex = (A_ex@W_ex)\n",
        "\n",
        "# метрики полученной регрессии\n",
        "MAE = regression_metrics(y_pred_ex,y)\n",
        "\n",
        "# запишем результат\n",
        "# columns= ['Alpha','L1_ratio','Polynomial','MAE_train', 'MAE_test']\n",
        "\n",
        "summary_log.loc['МНК без корр. колонок'] = ['n/a','n/a',False,MAE,'n/a']"
      ]
    },
    {
      "attachments": {},
      "cell_type": "markdown",
      "id": "KxbYvMDo_WLe",
      "metadata": {
        "id": "KxbYvMDo_WLe"
      },
      "source": [
        "> *Ваши выводы здесь*\n",
        "\n",
        "Мы видим, что хотя метрики несколько ухудшились: абсолютная ошибка немного увеличилась и R2_score уменшился, но модель по-прежнему хорошо описывает выборку. Значения коэффициентов регрессии ожидаемо изменились но остались в том же диапазоне и с тем же знаком. Фактор TOC, который демонстрировал разнонаправленные коэффициенты в матрице корреляции и уравнении регрессии, был исключен из уравнения, поэтому мы не можем сказать, изменился ли знак его коэффициента.\n"
      ]
    },
    {
      "cell_type": "markdown",
      "id": "7d50db12",
      "metadata": {
        "id": "7d50db12"
      },
      "source": [
        "### Задание 5.6. (1 балл)\n",
        "\n",
        "Наконец, давайте построим модель линейной регрессии из библиотеки `scikit-learn (sklearn)` и сравним результаты её работы с теми, что нам удалось получить вручную. \n",
        "\n",
        "Постройте модель линейной регрессии на обновлённых после удаления факторов данных по методу наименьших квадратов. Для этого воспользуйтесь классом `LinearRegression` из библиотеки `sklearn`. Выведите значения полученных коэффициентов, округлённые до целого.\n",
        "\n",
        "Сделайте прогноз для всего обучающего набора данных и рассчитайте значение выбранной вами метрики (или метрик).\n",
        "\n",
        "Сравните результаты библиотечной реализации с тем, что вы получили ранее. "
      ]
    },
    {
      "cell_type": "markdown",
      "id": "emu5D3w278JP",
      "metadata": {
        "id": "emu5D3w278JP"
      },
      "source": [
        "**Критерии оценивания:**\n",
        "\n",
        "- Задание выполнено верно, учтены все условия (**1 балл**): \n",
        "    * на основе отобранных факторов построена модель линейной регрессии из библиотеки sklearn и найдены параметры модели, соответствующие каждому из факторов;\n",
        "    * построен прогноз для всего обучающего набора данных и рассчитано значение метрики (метрика должна быть выбрана корректно);\n",
        "    * приведён вывод о соответствии результатов, полученных вручную и с помощью библиотеки.\n",
        "- Задание выполнено неверно, не учтено одно или несколько условий (**0 баллов**)."
      ]
    },
    {
      "cell_type": "code",
      "execution_count": 9,
      "id": "Gpdpfq59AKGu",
      "metadata": {
        "id": "Gpdpfq59AKGu"
      },
      "outputs": [
        {
          "name": "stdout",
          "output_type": "stream",
          "text": [
            "Матрица коэффициентов полученных вручную:\n",
            "         Intercept         Por          AI    Brittle          VR\n",
            "W_ex -1835.446461  293.036246 -200.030912  27.640982  517.402726\n",
            "Матрица коэффициентов sklearn:\n",
            "       Intercept  Por   AI  Brittle   VR\n",
            "W_lr      -1835  293 -200       27  517\n",
            "Mean Absolute Error = 168.5717\n",
            "R2_score = 0.945327\n",
            "R2_score from sklearn =  0.9452\n"
          ]
        }
      ],
      "source": [
        "from sklearn.linear_model import LinearRegression\n",
        "\n",
        "lr_ex = LinearRegression()\n",
        "\n",
        "lr_ex.fit(X_ex,y)\n",
        "y_pred_lr= pd.DataFrame(lr_ex.predict(X_ex))\n",
        "\n",
        "W_lr=np.concatenate([[lr_ex.intercept_],lr_ex.coef_])\n",
        "\n",
        "Names_lr = np.concatenate([['Intercept'],lr_ex.feature_names_in_])\n",
        "W_lr = pd.DataFrame(W_lr, index=Names_lr, columns = ['W_lr'])\n",
        "\n",
        "print('Матрица коэффициентов полученных вручную:\\n',W_ex.T)\n",
        "print('Матрица коэффициентов sklearn:\\n',W_lr.T.astype('int'))\n",
        "\n",
        "MAE = regression_metrics(y_pred_lr,y)\n",
        "\n",
        "summary_log.loc['Библиотечная LR'] = ['n/a','n/a',False,MAE,'n/a']"
      ]
    },
    {
      "attachments": {},
      "cell_type": "markdown",
      "id": "WT9cdHAbAMG7",
      "metadata": {
        "id": "WT9cdHAbAMG7"
      },
      "source": [
        "> *Ваши выводы здесь*\n",
        "\n",
        "Результаты, полученные при помощи sklearn и вручную совпадают."
      ]
    },
    {
      "cell_type": "markdown",
      "id": "5346338e",
      "metadata": {
        "id": "5346338e"
      },
      "source": [
        "## Практика: полиномиальная регрессия и регуляризация"
      ]
    },
    {
      "cell_type": "markdown",
      "id": "aad9e3a6",
      "metadata": {
        "id": "aad9e3a6"
      },
      "source": [
        "Мы продолжаем работать над задачей от владельца компании «Газ-Таз-Ваз-Нефть» Василия.\n",
        "\n",
        "Ранее мы построили модель линейной регрессии, которая прогнозирует выработку газа на скважине. Для этого мы с помощью матрицы корреляций и рассуждений отобрали некоррелированные, значимые для предсказания признаки. **Далее мы будем использовать именно их (см. задание 5.5).**\n",
        "\n",
        "Мы хотим улучшить результат — уменьшить ошибку прогноза. Для этого мы воспользуемся моделью полиномиальной регрессии третьей степени. Однако теперь мы знаем, что полиномиальным моделям очень легко переобучиться под исходную выборку. Так как данных у нас не так много (всего 200 скважин), то для контроля качества модели мы будем использовать кросс-валидацию. \n",
        "\n",
        "Приступим! Выполните задания 8.1–8.5:\n"
      ]
    },
    {
      "cell_type": "code",
      "execution_count": 10,
      "id": "18506d1b",
      "metadata": {
        "id": "18506d1b"
      },
      "outputs": [],
      "source": [
        "from sklearn.preprocessing import PolynomialFeatures, StandardScaler\n",
        "from sklearn.linear_model import LinearRegression, Lasso, Ridge, ElasticNet\n",
        "from sklearn.model_selection import GridSearchCV\n",
        "from sklearn.model_selection import cross_validate"
      ]
    },
    {
      "cell_type": "markdown",
      "id": "bfbfea8d",
      "metadata": {
        "id": "bfbfea8d"
      },
      "source": [
        "### Задание 8.1. (1 балл)\n",
        "\n",
        "Стандаризируйте признаки с помощью `StandartScaler` из библиотеки `sklearn`. \n",
        "\n",
        "Затем сгенерируйте полиномиальные признаки третьего порядка на факторах, которые вы выбрали для обучения моделей. Для этого воспользуйтесь генератором полиномов `PolynomialFeatures` из библиотеки `sklearn`. Параметр `include_bias` установите в значение `False`.\n",
        "\n",
        "Выведите на экран, сколько факторов у вас получилось после генерации полиномиальных признаков.\n",
        "\n",
        "**Важно:** стандартизацию необходимо произвести до генерации полиномиальных факторов!\n",
        "\n",
        "Обучите модель линейной регрессии из библиотеки `sklearn` (`LinearRegression`) на полученных полиномиальных факторах.\n",
        "\n",
        "Используя кросс-валидацию оцените среднее значение выбранной вами метрики (или метрик) на тренировочных и валидационных фолдах.\n",
        "\n",
        "Проинтерпретируйте полученные результаты."
      ]
    },
    {
      "cell_type": "markdown",
      "id": "Y8oAhQkr8gV-",
      "metadata": {
        "id": "Y8oAhQkr8gV-"
      },
      "source": [
        "**Критерии оценивания:**\n",
        "\n",
        "- Задание выполнено верно, учтены все условия (**1 балл**): \n",
        "    * на основе отобранных факторов сгенерированы полиномиальные признаки третьего порядка;\n",
        "    * построена модель полиномиальной регрессии (линейной регрессии на полиномиальных признаках);\n",
        "    * с помощью кросс-валидации оценено среднее значение выбранной студентом метрики (или метрик) на тренировочных и валидационных фолдах (метрика должна быть выбрана корректно).\n",
        "- Задание выполнено неверно, не учтено одно или несколько из условий (**0 баллов**)."
      ]
    },
    {
      "cell_type": "code",
      "execution_count": 11,
      "id": "-ln3bx8NFNRw",
      "metadata": {
        "id": "-ln3bx8NFNRw"
      },
      "outputs": [
        {
          "name": "stdout",
          "output_type": "stream",
          "text": [
            "Sample shape: (200, 34), \n",
            "Polinomial feature names:['x0' 'x1' 'x2' 'x3' 'x0^2' 'x0 x1' 'x0 x2' 'x0 x3' 'x1^2' 'x1 x2' 'x1 x3'\n",
            " 'x2^2' 'x2 x3' 'x3^2' 'x0^3' 'x0^2 x1' 'x0^2 x2' 'x0^2 x3' 'x0 x1^2'\n",
            " 'x0 x1 x2' 'x0 x1 x3' 'x0 x2^2' 'x0 x2 x3' 'x0 x3^2' 'x1^3' 'x1^2 x2'\n",
            " 'x1^2 x3' 'x1 x2^2' 'x1 x2 x3' 'x1 x3^2' 'x2^3' 'x2^2 x3' 'x2 x3^2'\n",
            " 'x3^3']\n",
            "\n",
            "Тренинговые фолды: Среднее значение MAE = 75, Среднее значение r2_score = 0.9896      \n",
            "Тестовые фолды: Среднее значение MAE = 110, Среднее значение r2_score = 0.9748\n"
          ]
        }
      ],
      "source": [
        "# Ваш код здесь\n",
        "from sklearn.metrics import mean_absolute_error\n",
        "\n",
        "#Создаем объект для min-max нормализации\n",
        "scaler = StandardScaler()\n",
        "#Вычисляем параметры для нормализации - min и max для каждого столбца\n",
        "scaler.fit(X_ex)\n",
        "#Производим преобразование для каждой из выборок\n",
        "X_scaled = scaler.transform(X_ex)\n",
        "\n",
        "#Создаем объект для генерации полиномиальных признаков степени 3\n",
        "poly = PolynomialFeatures(degree=3, include_bias=False)\n",
        "#Вычисляем параметры генерации - результирующее количество признак\n",
        "poly.fit(X_scaled)\n",
        "#Производим преобразование\n",
        "X_scaled_poly = poly.transform(X_scaled)\n",
        "\n",
        "poly_feature_names = poly.get_feature_names_out()\n",
        "\n",
        "print('Sample shape: {0}, \\nPolinomial feature names:{1}'.format(X_scaled_poly.shape,poly_feature_names))\n",
        "\n",
        "# Рассчитываем параметры целевой переменной для полиномиальной модели\n",
        "\n",
        "lr_poly = LinearRegression()\n",
        "lr_poly.fit(X_scaled_poly,y)\n",
        "\n",
        "y_pred_poly = lr_poly.predict(X_scaled_poly)\n",
        "\n",
        "# Получаем метрики  модели\n",
        "\n",
        "res = cross_validate(lr_poly,X_scaled_poly,y,scoring=['neg_mean_absolute_error','r2'],cv=5,return_train_score=True)\n",
        "\n",
        "print('\\nТренинговые фолды: Среднее значение MAE = {0:.0f}, Среднее значение r2_score = {1:.4f}\\\n",
        "      \\nТестовые фолды: Среднее значение MAE = {2:.0f}, Среднее значение r2_score = {3:.4f}'.format(\n",
        "    -res['train_neg_mean_absolute_error'].mean(),res['train_r2'].mean(),\n",
        "    -res['test_neg_mean_absolute_error'].mean(),res['test_r2'].mean()\n",
        "    ) )\n",
        "\n",
        "summary_log.loc['LR Scaled Poly'] = ['n/a','n/a',True,-res['train_neg_mean_absolute_error'].mean(),\n",
        "                                     -res['test_neg_mean_absolute_error'].mean()]"
      ]
    },
    {
      "attachments": {},
      "cell_type": "markdown",
      "id": "9DkuuLLtFPPy",
      "metadata": {
        "id": "9DkuuLLtFPPy"
      },
      "source": [
        "> *Ваши выводы здесь*\n",
        "\n",
        "Модель полиномиальной регрессии третьей степени на стандартизованных данных обладает значительно лучшей предсказательной способностью по сравнению с моделью первой степени без нормализации: метрика ошибки уменьшилась и коэффициент детерминации увеличился. Тем не менее появились признаки переобучения модели - ошибка тестовых фолдов почти в полтора раза выше ошибки тренинговых фолдов. "
      ]
    },
    {
      "cell_type": "markdown",
      "id": "63d06013",
      "metadata": {
        "id": "63d06013"
      },
      "source": [
        "### Задание 8.2. (2 балла)\n",
        "\n",
        "Теперь попробуем воспользоваться линейной регрессией с регуляризацией. Для начала возьмём $L_1$-регуляризацию.\n",
        "\n",
        "Обучите модель `Lasso` из библиотеки `sklearn` на полученных полиномиальных факторах, предварительно стандартизировав факторы. \n",
        "\n",
        "Коэффициент регуляризации (`alpha`) подберите самостоятельно с помощью любого известного вам метода подбора гиперпаметров.\n",
        "\n",
        "Используя кросс-валидацию, оцените среднее значение выбранной вами метрики (или метрик) на тренировочных и валидационных фолдах.\n",
        "\n",
        "Проинтерпретируйте полученные результаты."
      ]
    },
    {
      "cell_type": "markdown",
      "id": "z24YUfuA9rUq",
      "metadata": {
        "id": "z24YUfuA9rUq"
      },
      "source": [
        "**Критерии оценивания:**\n",
        "\n",
        "- Задание выполнено верно, учтены все условия (**2 балла**): \n",
        "    * правильно построена модель полиномиальной регрессии (линейной регрессии на полиномиальных признаках) с регуляризацией (Lasso), учтены условия необходимости масштабирования факторов для построения модели;\n",
        "    * приведён код для подбора параметра регуляризации (вручную или с помощью библиотечных инструментов);\n",
        "    * с помощью кросс-валидации оценено среднее значение выбранной студентом метрики (или метрик) на тренировочных и валидационных фолдах (метрика должна быть выбрана корректно).\n",
        "\n",
        "- Задание выполнено верно, но не учтено одно из условий (**1 балл**).\n",
        "- Задание выполнено неверно, не учтено несколько условий (**0 баллов**)."
      ]
    },
    {
      "cell_type": "code",
      "execution_count": 12,
      "id": "IJ5b5G8qFz-r",
      "metadata": {
        "id": "IJ5b5G8qFz-r"
      },
      "outputs": [
        {
          "name": "stdout",
          "output_type": "stream",
          "text": [
            "100%|██████████| 50/50 [00:00<00:00, 125.63trial/s, best loss: 95.67500530497017]\n",
            "Наилучшие значения гиперпараметров {'alpha': 4.800000000000001}\n",
            "\n",
            "Alpha = 4.8000, Тренинговые фолды: Среднее значение MAE = 78.1492,      \n",
            "Тестовые фолды: Среднее значение MAE = 95.6750\n"
          ]
        },
        {
          "data": {
            "image/png": "[encoded data removed]",
            "text/plain": [
              "<Figure size 640x480 with 1 Axes>"
            ]
          },
          "metadata": {},
          "output_type": "display_data"
        }
      ],
      "source": [
        "# Ваш код здесь\n",
        "from hyperopt import hp, fmin, tpe, Trials\n",
        "from sklearn.metrics import mean_absolute_error\n",
        "import matplotlib.pyplot as plt\n",
        "\n",
        "def hyperopt_lasso(params,X=X_scaled_poly, y=y):\n",
        "    # функция получает комбинацию гиперпараметров в \"params\"\n",
        "    \n",
        "    params = {'alpha':params['alpha']}\n",
        "\n",
        "    # используем эту комбинацию для построения модели\n",
        "    model = Lasso(**params)\n",
        "    \n",
        "    score = cross_validate(model,X,y,scoring=['neg_mean_absolute_error','r2'],cv=5,return_train_score=True)['test_neg_mean_absolute_error'].mean()\n",
        "\n",
        "    # метрику необходимо минимизировать, поэтому ставим знак минус\n",
        "    return -score\n",
        "\n",
        "# начинаем подбор гиперпараметров\n",
        "\n",
        "trials = Trials() # используется для логирования результатов\n",
        "space={'alpha':hp.quniform('alpha', 0.5, 10.0,0.1)}\n",
        "\n",
        "best=fmin(hyperopt_lasso, # наша функция \n",
        "          space=space, # пространство гиперпараметров\n",
        "          algo=tpe.suggest, # алгоритм оптимизации, установлен по умолчанию, задавать необязательно\n",
        "          max_evals=50, # максимальное количество итераций\n",
        "          trials=trials # логирование результатов\n",
        "         )\n",
        "print(\"Наилучшие значения гиперпараметров {}\".format(best))\n",
        "\n",
        "\n",
        "\n",
        "#Инициализируем объект класса линейная регрессия с L1-регуляризацией для лучшего параметра\n",
        "lasso_lr_poly = Lasso(alpha=best['alpha'])\n",
        "  \n",
        "#Обучаем модель \n",
        "lasso_lr_poly.fit(X_scaled_poly, y)\n",
        "#Предсказываем целевую \n",
        "y_pred = lasso_lr_poly.predict(X_scaled_poly)\n",
        "\n",
        "#Выводим результирующие метрики\n",
        "\n",
        "res = cross_validate(lasso_lr_poly,X_scaled_poly,y,scoring=['neg_mean_absolute_error','r2'],cv=5,return_train_score=True)\n",
        "\n",
        "print('\\nAlpha = {2:.4f}, Тренинговые фолды: Среднее значение MAE = {0:.4f},\\\n",
        "      \\nТестовые фолды: Среднее значение MAE = {1:.4f}'.format(\n",
        "    -res['train_neg_mean_absolute_error'].mean(),\n",
        "    -res['test_neg_mean_absolute_error'].mean(),\n",
        "    best['alpha']\n",
        "    ) )\n",
        "\n",
        "plt.scatter(trials.idxs_vals[1]['alpha'], trials.losses())\n",
        "plt.title(\"Подбор оптимального коэффициента Alpha\")\n",
        "plt.xlabel(\"Alpha\")\n",
        "plt.ylabel(\"MAE\")\n",
        "plt.grid()\n",
        "plt.show()\n",
        "\n",
        "summary_log.loc['Lasso hyperopt'] = [best['alpha'],'n/a',True,-res['train_neg_mean_absolute_error'].mean(),\n",
        "                                     -res['test_neg_mean_absolute_error'].mean()]"
      ]
    },
    {
      "attachments": {},
      "cell_type": "markdown",
      "id": "Se0OGR8UF2Td",
      "metadata": {
        "id": "Se0OGR8UF2Td"
      },
      "source": [
        "> *Ваши выводы здесь*\n",
        "\n",
        "Введение штрафа (коэффициент регуляризации Alpha) увеличил смещение - мы видим большую ошибку MAE на тренинговом наборе, однако предсказательная способность модели улучшилась: MAE на тестовом наборе в модели с регуляризацией значительно лучше чем без. Оптимальное значение Alpha находится в окрестности 4.7. "
      ]
    },
    {
      "cell_type": "markdown",
      "id": "2975ae60",
      "metadata": {
        "id": "2975ae60"
      },
      "source": [
        "### Задание 8.3. (2 балла)\n",
        "\n",
        "Проделаем то же самое с $L_2$-регуляризацией.\n",
        "\n",
        "Обучите модель `Ridge` из библиотеки `sklearn` на полученных полиномиальных факторах, предварительно стандартизировав факторы. \n",
        "\n",
        "Коэффициент регуляризации (`alpha`) подберите самостоятельно с помощью любого известного вам метода подбора гиперпаметров.\n",
        "\n",
        "Используя кросс-валидацию оцените среднее значение выбранной вами метрики (или метрик) на тренировочных и валидационных фолдах.\n",
        "\n",
        "Проинтерпретируйте полученные результаты."
      ]
    },
    {
      "cell_type": "code",
      "execution_count": 13,
      "id": "UfPGyNsjGGS8",
      "metadata": {
        "id": "UfPGyNsjGGS8"
      },
      "outputs": [
        {
          "name": "stdout",
          "output_type": "stream",
          "text": [
            "100%|██████████| 50/50 [00:00<00:00, 151.64trial/s, best loss: 110.069422790407]  \n",
            "Наилучшие значения гиперпараметров {'alpha': 0.2}\n",
            "\n",
            "Alpha = 0.2000, Тренинговые фолды: Среднее значение MAE = 75.4033,      \n",
            "Тестовые фолды: Среднее значение MAE = 110.0694\n"
          ]
        },
        {
          "data": {
            "image/png": "[encoded data removed]",
            "text/plain": [
              "<Figure size 640x480 with 1 Axes>"
            ]
          },
          "metadata": {},
          "output_type": "display_data"
        }
      ],
      "source": [
        "# Ваш код здесь\n",
        "from sklearn.linear_model import Ridge\n",
        "from hyperopt import hp, fmin, tpe, Trials\n",
        "from sklearn.metrics import mean_absolute_error\n",
        "import matplotlib.pyplot as plt\n",
        "import sys \n",
        "import warnings\n",
        "import os\n",
        "\n",
        "if not sys.warnoptions:\n",
        "    warnings.simplefilter(\"ignore\")\n",
        "    os.environ[\"PYTHONWARNINGS\"] = \"ignore\"\n",
        "\n",
        "def hyperopt_Ridge(params,X=X_scaled_poly, y=y):\n",
        "    # функция получает комбинацию гиперпараметров в \"params\"\n",
        "    \n",
        "    params = {'alpha':params['alpha']}\n",
        "\n",
        "    # используем эту комбинацию для построения модели\n",
        "    model = Ridge(**params)\n",
        "    \n",
        "    score = cross_validate(model,X,y,scoring=['neg_mean_absolute_error','r2'],cv=5,return_train_score=True)['test_neg_mean_absolute_error'].mean()\n",
        "\n",
        "    # метрику необходимо минимизировать, поэтому ставим знак минус\n",
        "    return -score\n",
        "\n",
        "\n",
        "# начинаем подбор гиперпараметров\n",
        "\n",
        "trials = Trials() # используется для логирования результатов\n",
        "space={'alpha':hp.quniform('alpha', 0, 1,0.01)}\n",
        "\n",
        "best=fmin(hyperopt_Ridge, # наша функция \n",
        "          space=space, # пространство гиперпараметров\n",
        "          algo=tpe.suggest, # алгоритм оптимизации, установлен по умолчанию, задавать необязательно\n",
        "          max_evals=50, # максимальное количество итераций\n",
        "          trials=trials # логирование результатов\n",
        "         )\n",
        "print(\"Наилучшие значения гиперпараметров {}\".format(best))\n",
        "\n",
        "\n",
        "\n",
        "#Инициализируем объект класса линейная регрессия с L1-регуляризацией для лучшего параметра\n",
        "ridge_lr_poly = Ridge(alpha=best['alpha'])\n",
        "  \n",
        "#Обучаем модель \n",
        "ridge_lr_poly.fit(X_scaled_poly, y)\n",
        "#Предсказываем целевую \n",
        "y_pred = ridge_lr_poly.predict(X_scaled_poly)\n",
        "\n",
        "#Выводим результирующие метрики\n",
        "\n",
        "res = cross_validate(ridge_lr_poly,X_scaled_poly,y,scoring=['neg_mean_absolute_error','r2'],cv=5,return_train_score=True)\n",
        "\n",
        "print('\\nAlpha = {2:.4f}, Тренинговые фолды: Среднее значение MAE = {0:.4f},\\\n",
        "      \\nТестовые фолды: Среднее значение MAE = {1:.4f}'.format(\n",
        "    -res['train_neg_mean_absolute_error'].mean(),\n",
        "    -res['test_neg_mean_absolute_error'].mean(),\n",
        "    best['alpha']\n",
        "    ) )\n",
        "\n",
        "plt.scatter(trials.idxs_vals[1]['alpha'], trials.losses())\n",
        "plt.title(\"Подбор оптимального коэффициента Alpha\")\n",
        "plt.xlabel(\"Alpha\")\n",
        "plt.ylabel(\"MAE\")\n",
        "plt.grid()\n",
        "plt.show()\n",
        "\n",
        "summary_log.loc['Ridge hyperopt'] = [best['alpha'],'n/a',True,-res['train_neg_mean_absolute_error'].mean(),\n",
        "                                     -res['test_neg_mean_absolute_error'].mean()]\n"
      ]
    },
    {
      "attachments": {},
      "cell_type": "markdown",
      "id": "dQBd7ny_GIi1",
      "metadata": {
        "id": "dQBd7ny_GIi1"
      },
      "source": [
        "> *Ваши выводы здесь*\n",
        "\n",
        "Ridge модель показала результаты хуже чем Lasso. По-видимому, этот алгоритм не позволил в достаточной степени снизить влияние мультиколлениарных факторов и модель осталась значительно переобученной"
      ]
    },
    {
      "cell_type": "markdown",
      "id": "86pXnWE7-5ch",
      "metadata": {
        "id": "86pXnWE7-5ch"
      },
      "source": [
        "**Критерии оценивания:**\n",
        "\n",
        "- Задание выполнено верно, учтены все условия (**2 балла**): \n",
        "    * правильно построена модель полиномиальной регрессии (линейной регрессии на полиномиальных признаках) с регуляризацией (Ridge), учтены условия необходимости масштабирования факторов для построения модели;\n",
        "    * приведён код для подбора параметра регуляризации (вручную или с помощью библиотечных инструментов);\n",
        "    * с помощью кросс-валидации оценено среднее значение выбранной студентом метрики (или метрик) на тренировочных и валидационных фолдах (метрика должна быть выбрана корректно).\n",
        "\n",
        "- Задание выполнено верно, но не учтено одно из условий (**1 балл**).\n",
        "- Задание выполнено неверно, не учтено несколько условий (**0 баллов**)."
      ]
    },
    {
      "cell_type": "markdown",
      "id": "7ad85b78",
      "metadata": {
        "id": "7ad85b78"
      },
      "source": [
        "### Задание 8.4. (2 балла)\n",
        "\n",
        "Наконец, настало время комбинировать $L_1$ и $L_2$ -регуляризации.\n",
        "\n",
        "Обучите модель `ElasticNet` из библиотеки `sklearn` на полученных полиномиальных факторах, предварительно стандартизировав факторы. \n",
        "\n",
        "Коэффициенты регуляризации (`alpha` и `l1-ratio`) подберите самостоятельно с помощью любого известного вам метода подбора гиперпаметров.\n",
        "\n",
        "Используя кросс-валидацию, оцените среднее значение метрики MAPE на тренировочных и валидационных фолдах.\n",
        "\n",
        "Проинтерпретируйте полученные результаты."
      ]
    },
    {
      "cell_type": "markdown",
      "id": "sy8ESceQ-__u",
      "metadata": {
        "id": "sy8ESceQ-__u"
      },
      "source": [
        "**Критерии оценивания:**\n",
        "\n",
        "- Задание выполнено верно, учтены все условия (**2 балла**): \n",
        "    * правильно построена модель полиномиальной регрессии (линейной регрессии на полиномиальных признаках) с регуляризацией (ElasticNet), учтены условия необходимости масштабирования факторов для построения модели;\n",
        "    * приведён код для подбора параметра регуляризации (вручную или с помощью библиотечных инструментов);\n",
        "    * с помощью кросс-валидации оценено среднее значение выбранной студентом метрики (или метрик) на тренировочных и валидационных фолдах (метрика должна быть выбрана корректно).\n",
        "\n",
        "- Задание выполнено верно, но не учтено одно из условий (**1 балл**).\n",
        "- Задание выполнено неверно, не учтено несколько условий (**0 баллов**)."
      ]
    },
    {
      "cell_type": "code",
      "execution_count": 14,
      "id": "-Yi3P20hQnLS",
      "metadata": {
        "id": "-Yi3P20hQnLS"
      },
      "outputs": [
        {
          "name": "stdout",
          "output_type": "stream",
          "text": [
            "100%|██████████| 200/200 [00:02<00:00, 86.07trial/s, best loss: 95.76748550324405] \n",
            "Наилучшие значения гиперпараметров {'alpha': 5.4725, 'l1_ratio': 1.0}\n",
            "\n",
            "Alpha = 5.4725, Тренинговые фолды: Среднее значение MAE = 78.6977,      \n",
            "Тестовые фолды: Среднее значение MAE = 95.7675, MAPE = 0.0228\n"
          ]
        },
        {
          "data": {
            "text/html": [
              "        <script type=\"text/javascript\">\n",
              "        window.PlotlyConfig = {MathJaxConfig: 'local'};\n",
              "        if (window.MathJax && window.MathJax.Hub && window.MathJax.Hub.Config) {window.MathJax.Hub.Config({SVG: {font: \"STIX-Web\"}});}\n",
              "        if (typeof require !== 'undefined') {\n",
              "        require.undef(\"plotly\");\n",
              "        requirejs.config({\n",
              "            paths: {\n",
              "                'plotly': ['https://cdn.plot.ly/plotly-2.18.2.min']\n",
              "            }\n",
              "        });\n",
              "        require(['plotly'], function(Plotly) {\n",
              "            window._Plotly = Plotly;\n",
              "        });\n",
              "        }\n",
              "        </script>\n",
              "        "
            ]
          },
          "metadata": {},
          "output_type": "display_data"
        },
        {
          "data": {
            "text/html": [
              "<div>                            <div id=\"7faec1bc-e05c-4270-bfe9-3ab05437a540\" class=\"plotly-graph-div\" style=\"height:525px; width:100%;\"></div>            <script type=\"text/javascript\">                require([\"plotly\"], function(Plotly) {                    window.PLOTLYENV=window.PLOTLYENV || {};                                    if (document.getElementById(\"7faec1bc-e05c-4270-bfe9-3ab05437a540\")) {                    Plotly.newPlot(                        \"7faec1bc-e05c-4270-bfe9-3ab05437a540\",                        [{\"hovertemplate\":\"alpha=%{x}<br>l1_ratio=%{y}<br>score=%{z}<extra></extra>\",\"legendgroup\":\"\",\"marker\":{\"color\":\"#636efa\",\"symbol\":\"circle\"},\"mode\":\"markers\",\"name\":\"\",\"scene\":\"scene\",\"showlegend\":false,\"x\":[6.0537,3.1346000000000003,36.4684,40.3629,65.86240000000001,8.0771,56.0546,54.844,97.94380000000001,47.5688,69.1541,89.1494,15.101500000000001,86.5711,43.269000000000005,37.8449,53.7421,85.49210000000001,55.7768,31.8522,21.454,22.1856,24.8061,1.0672000000000001,26.265600000000003,13.291,1.5132,14.3396,0.8647,0.8825000000000001,9.3979,31.192200000000003,0.4591,65.596,4.792800000000001,17.9796,10.612,30.954700000000003,77.57690000000001,7.069500000000001,47.1909,4.4463,17.785500000000003,99.79050000000001,62.9754,42.8049,34.995400000000004,70.5137,94.44290000000001,50.9908,25.564600000000002,28.762700000000002,38.3091,19.977,25.4953,59.830400000000004,11.7657,45.0796,34.5454,16.716900000000003,21.442,39.8179,8.365,27.834500000000002,80.262,0.5640000000000001,3.0932,13.637500000000001,23.331400000000002,6.425400000000001,6.1043,10.582600000000001,19.0091,16.315,33.296800000000005,29.014000000000003,2.7346,6.2465,14.98,50.640800000000006,8.7986,23.7571,12.745700000000001,37.4409,41.6496,59.539500000000004,19.5704,48.036300000000004,3.8141000000000003,53.929,21.1228,26.0456,71.66470000000001,11.4295,31.7819,7.7526,0.1462,35.8917,16.582900000000002,45.197,27.977500000000003,94.9745,9.728200000000001,5.1001,39.478100000000005,2.5756,23.296,14.4055,30.162000000000003,58.710300000000004,26.3491,33.176700000000004,0.4335,17.5659,66.9345,6.2766,12.9702,56.8494,44.6134,19.579700000000003,11.0585,75.2145,21.951,87.7172,7.7925,63.3857,15.775500000000001,83.3972,49.0901,40.9705,2.099,24.6069,34.4949,30.245800000000003,38.6941,53.041000000000004,52.131600000000006,46.638000000000005,36.9604,25.131700000000002,55.383500000000005,33.202600000000004,41.254200000000004,27.566200000000002,43.895700000000005,9.2705,20.1481,3.7141,18.3409,23.289,18.337,29.710900000000002,13.5309,26.753400000000003,36.0118,32.134100000000004,24.3636,22.029400000000003,15.503900000000002,12.0927,22.4642,5.4725,5.1116,1.8271000000000002,9.9077,0.183,7.132300000000001,0.2632,4.7306,91.1823,1.1118000000000001,8.059700000000001,10.835700000000001,3.3777000000000004,14.3093,18.4329,5.9301,17.3637,8.8892,3.4081,0.8551000000000001,14.9329,12.0723,73.5321,62.081900000000005,7.0779000000000005,0.6892,20.3736,4.503,68.7743,10.6622,0.0616,12.848,9.119100000000001,16.5452,9.203100000000001,82.7084,20.3612,2.6675,14.598],\"y\":[0.905,0.38,0.485,0.68,0.86,0.49,0.5700000000000001,0.5,0.55,0.9450000000000001,0.54,0.03,0.26,0.37,0.975,0.195,0.035,0.4,0.745,0.56,0.965,0.84,0.99,0.87,0.735,0.79,0.66,0.865,0.985,0.9,0.92,0.78,0.65,0.7000000000000001,0.62,0.42,0.8200000000000001,0.895,0.225,0.615,0.995,0.09,0.935,0.71,0.31,0.445,0.79,0.9,0.35000000000000003,0.51,1.0,0.9550000000000001,0.17,0.8250000000000001,0.585,0.1,0.76,0.975,0.995,0.485,0.84,0.725,0.875,0.68,0.28,0.93,0.9450000000000001,0.765,0.91,0.995,0.8,0.87,0.97,0.81,0.995,0.635,0.855,0.885,0.925,0.675,0.535,0.845,0.705,0.96,0.76,0.74,0.6,0.35000000000000003,0.465,0.8300000000000001,0.975,0.905,1.0,0.015,0.17,0.5750000000000001,0.775,0.65,0.92,0.41000000000000003,0.9450000000000001,0.81,0.725,0.89,0.865,0.52,0.085,0.9500000000000001,0.98,0.215,0.785,0.6900000000000001,0.85,0.555,0.935,0.27,0.435,0.885,0.995,0.39,0.62,0.8300000000000001,0.055,0.755,0.67,0.91,0.965,0.33,0.8,0.725,0.295,1.0,0.93,0.87,0.13,0.8250000000000001,0.59,0.9550000000000001,1.0,0.48,0.64,0.9,0.85,0.775,0.705,0.985,0.975,0.92,1.0,0.9500000000000001,0.885,1.0,0.805,0.86,0.935,0.97,0.91,1.0,0.88,0.74,0.835,1.0,0.9550000000000001,0.245,0.79,0.98,0.365,0.9,0.925,0.975,0.8200000000000001,0.86,0.755,0.935,0.845,0.89,0.96,0.91,0.61,0.98,0.66,0.6900000000000001,0.775,0.17500000000000002,0.88,0.805,0.72,0.9450000000000001,0.465,0.985,0.525,1.0,0.5650000000000001,1.0,0.92,0.84,0.865,0.96,0.505,0.9400000000000001],\"z\":[307.8709993700769,411.27325259691753,611.1295249174576,579.6103910125224,561.7740158519538,476.7817225031493,636.4121404461463,646.2906873568179,686.2942319713168,466.45488573270814,660.0347230138294,721.7686451666428,559.2218024349407,697.3840816392806,398.4394849501533,651.0725075303826,690.2983494763708,693.7250159346553,592.6838260387447,584.192256501732,346.9186873348479,473.2207784291938,257.02232070023155,191.6972095232807,526.8653432437799,448.46103755571676,293.6542397907659,419.58218625748094,110.67625556363778,165.49747991764107,334.82573163574125,527.974009775769,201.13504082356582,622.3459246965331,407.0987100879226,554.8331868181299,415.4524383564776,471.92003879755794,701.7443830264049,442.2308959241279,279.6216790310842,473.3383698765186,379.2768803692028,658.5617753378492,680.4014222577692,632.4068930746074,534.5417885836388,544.9537126402336,704.9260355213928,638.1887667600283,116.65901327207071,398.6399128667662,654.4277623519827,470.7238214726149,558.544763008179,693.3448392376822,448.40777921664295,403.3973054899958,238.46694348703537,539.040846181981,470.12560772415543,565.6403167944001,362.89047454985064,546.1881906495098,699.8737788762634,132.48612873000673,206.37864682637118,460.0416233462257,433.02055220161867,124.06745983575433,374.2068641459323,387.75870286544534,320.627174846672,459.0230216592815,234.0155394743559,559.7588348221377,271.37210688235,327.932620049861,374.503065327783,603.649676222728,476.6489579366711,476.96265142916707,472.2477847103799,418.49041172776634,559.6548065108542,600.9885666539394,532.7815818441579,654.8417076814605,415.9514023073999,557.4463502048724,316.5112579084063,447.64937119789903,188.97284947176541,558.522998550191,638.5400672310889,458.57755707470915,128.45753012318693,575.7170111310257,389.80227179402175,642.1268623698239,412.2603172356301,622.4807447588222,442.61398003335563,304.7267221674818,513.2164465988637,372.3374087687558,618.8194598735956,335.79975744770053,337.91272646458344,683.5858065970899,511.2098318450886,558.9489239953394,151.21783249529784,531.8389382862719,512.6228761337702,484.1405975666621,524.997510013495,534.9628559309953,271.7457766062399,565.7928553877103,479.9660901492819,589.5413340218239,616.1469412153953,634.3334462429214,437.9999707008813,528.4874356567976,314.0133162364307,698.3666057900655,560.7405580941548,568.0361123665964,387.29965771481244,114.85840295915446,451.79437781298896,485.68619209841125,658.7782624207315,558.025024280578,625.8580728847378,450.1799604496564,141.31673511802282,575.8129483684295,620.9111690289496,474.914571626037,524.840845762531,518.7574935133337,580.9511526356641,196.9797245450001,311.2716650716441,248.23102511528913,106.35791646340628,384.8036841751913,429.6228459660653,125.56181273738503,444.08277468734957,479.99927686222463,450.53106713928344,377.8251250208023,437.1205111336766,110.7041540540522,417.20893736581263,457.52377279045476,476.7038811478691,95.76748550324405,229.83236563229653,381.07295596944306,422.08968579267156,108.90802256917314,483.66330306616163,123.1808867181981,263.79614209385306,486.2328811056759,216.63154219007993,369.12639761198426,442.7385533937625,224.98688367210352,430.6273128903631,426.561849397285,232.87292673171856,404.0597928416747,463.39196491511564,151.2353615768783,243.9420145162218,489.646716881061,445.4448029782354,701.7705082209073,545.7234122590535,385.1935924011117,213.91092803203128,378.9749747917289,430.3034846459136,419.28789632726256,494.5694501275722,109.36304629243102,503.458627293254,98.86696809819564,389.57705363866205,392.47993206234094,580.5624729739163,352.5843219624054,378.01569494997113,353.06852513500337],\"type\":\"scatter3d\"}],                        {\"template\":{\"data\":{\"histogram2dcontour\":[{\"type\":\"histogram2dcontour\",\"colorbar\":{\"outlinewidth\":0,\"ticks\":\"\"},\"colorscale\":[[0.0,\"#0d0887\"],[0.1111111111111111,\"#46039f\"],[0.2222222222222222,\"#7201a8\"],[0.3333333333333333,\"#9c179e\"],[0.4444444444444444,\"#bd3786\"],[0.5555555555555556,\"#d8576b\"],[0.6666666666666666,\"#ed7953\"],[0.7777777777777778,\"#fb9f3a\"],[0.8888888888888888,\"#fdca26\"],[1.0,\"#f0f921\"]]}],\"choropleth\":[{\"type\":\"choropleth\",\"colorbar\":{\"outlinewidth\":0,\"ticks\":\"\"}}],\"histogram2d\":[{\"type\":\"histogram2d\",\"colorbar\":{\"outlinewidth\":0,\"ticks\":\"\"},\"colorscale\":[[0.0,\"#0d0887\"],[0.1111111111111111,\"#46039f\"],[0.2222222222222222,\"#7201a8\"],[0.3333333333333333,\"#9c179e\"],[0.4444444444444444,\"#bd3786\"],[0.5555555555555556,\"#d8576b\"],[0.6666666666666666,\"#ed7953\"],[0.7777777777777778,\"#fb9f3a\"],[0.8888888888888888,\"#fdca26\"],[1.0,\"#f0f921\"]]}],\"heatmap\":[{\"type\":\"heatmap\",\"colorbar\":{\"outlinewidth\":0,\"ticks\":\"\"},\"colorscale\":[[0.0,\"#0d0887\"],[0.1111111111111111,\"#46039f\"],[0.2222222222222222,\"#7201a8\"],[0.3333333333333333,\"#9c179e\"],[0.4444444444444444,\"#bd3786\"],[0.5555555555555556,\"#d8576b\"],[0.6666666666666666,\"#ed7953\"],[0.7777777777777778,\"#fb9f3a\"],[0.8888888888888888,\"#fdca26\"],[1.0,\"#f0f921\"]]}],\"heatmapgl\":[{\"type\":\"heatmapgl\",\"colorbar\":{\"outlinewidth\":0,\"ticks\":\"\"},\"colorscale\":[[0.0,\"#0d0887\"],[0.1111111111111111,\"#46039f\"],[0.2222222222222222,\"#7201a8\"],[0.3333333333333333,\"#9c179e\"],[0.4444444444444444,\"#bd3786\"],[0.5555555555555556,\"#d8576b\"],[0.6666666666666666,\"#ed7953\"],[0.7777777777777778,\"#fb9f3a\"],[0.8888888888888888,\"#fdca26\"],[1.0,\"#f0f921\"]]}],\"contourcarpet\":[{\"type\":\"contourcarpet\",\"colorbar\":{\"outlinewidth\":0,\"ticks\":\"\"}}],\"contour\":[{\"type\":\"contour\",\"colorbar\":{\"outlinewidth\":0,\"ticks\":\"\"},\"colorscale\":[[0.0,\"#0d0887\"],[0.1111111111111111,\"#46039f\"],[0.2222222222222222,\"#7201a8\"],[0.3333333333333333,\"#9c179e\"],[0.4444444444444444,\"#bd3786\"],[0.5555555555555556,\"#d8576b\"],[0.6666666666666666,\"#ed7953\"],[0.7777777777777778,\"#fb9f3a\"],[0.8888888888888888,\"#fdca26\"],[1.0,\"#f0f921\"]]}],\"surface\":[{\"type\":\"surface\",\"colorbar\":{\"outlinewidth\":0,\"ticks\":\"\"},\"colorscale\":[[0.0,\"#0d0887\"],[0.1111111111111111,\"#46039f\"],[0.2222222222222222,\"#7201a8\"],[0.3333333333333333,\"#9c179e\"],[0.4444444444444444,\"#bd3786\"],[0.5555555555555556,\"#d8576b\"],[0.6666666666666666,\"#ed7953\"],[0.7777777777777778,\"#fb9f3a\"],[0.8888888888888888,\"#fdca26\"],[1.0,\"#f0f921\"]]}],\"mesh3d\":[{\"type\":\"mesh3d\",\"colorbar\":{\"outlinewidth\":0,\"ticks\":\"\"}}],\"scatter\":[{\"fillpattern\":{\"fillmode\":\"overlay\",\"size\":10,\"solidity\":0.2},\"type\":\"scatter\"}],\"parcoords\":[{\"type\":\"parcoords\",\"line\":{\"colorbar\":{\"outlinewidth\":0,\"ticks\":\"\"}}}],\"scatterpolargl\":[{\"type\":\"scatterpolargl\",\"marker\":{\"colorbar\":{\"outlinewidth\":0,\"ticks\":\"\"}}}],\"bar\":[{\"error_x\":{\"color\":\"#2a3f5f\"},\"error_y\":{\"color\":\"#2a3f5f\"},\"marker\":{\"line\":{\"color\":\"#E5ECF6\",\"width\":0.5},\"pattern\":{\"fillmode\":\"overlay\",\"size\":10,\"solidity\":0.2}},\"type\":\"bar\"}],\"scattergeo\":[{\"type\":\"scattergeo\",\"marker\":{\"colorbar\":{\"outlinewidth\":0,\"ticks\":\"\"}}}],\"scatterpolar\":[{\"type\":\"scatterpolar\",\"marker\":{\"colorbar\":{\"outlinewidth\":0,\"ticks\":\"\"}}}],\"histogram\":[{\"marker\":{\"pattern\":{\"fillmode\":\"overlay\",\"size\":10,\"solidity\":0.2}},\"type\":\"histogram\"}],\"scattergl\":[{\"type\":\"scattergl\",\"marker\":{\"colorbar\":{\"outlinewidth\":0,\"ticks\":\"\"}}}],\"scatter3d\":[{\"type\":\"scatter3d\",\"line\":{\"colorbar\":{\"outlinewidth\":0,\"ticks\":\"\"}},\"marker\":{\"colorbar\":{\"outlinewidth\":0,\"ticks\":\"\"}}}],\"scattermapbox\":[{\"type\":\"scattermapbox\",\"marker\":{\"colorbar\":{\"outlinewidth\":0,\"ticks\":\"\"}}}],\"scatterternary\":[{\"type\":\"scatterternary\",\"marker\":{\"colorbar\":{\"outlinewidth\":0,\"ticks\":\"\"}}}],\"scattercarpet\":[{\"type\":\"scattercarpet\",\"marker\":{\"colorbar\":{\"outlinewidth\":0,\"ticks\":\"\"}}}],\"carpet\":[{\"aaxis\":{\"endlinecolor\":\"#2a3f5f\",\"gridcolor\":\"white\",\"linecolor\":\"white\",\"minorgridcolor\":\"white\",\"startlinecolor\":\"#2a3f5f\"},\"baxis\":{\"endlinecolor\":\"#2a3f5f\",\"gridcolor\":\"white\",\"linecolor\":\"white\",\"minorgridcolor\":\"white\",\"startlinecolor\":\"#2a3f5f\"},\"type\":\"carpet\"}],\"table\":[{\"cells\":{\"fill\":{\"color\":\"#EBF0F8\"},\"line\":{\"color\":\"white\"}},\"header\":{\"fill\":{\"color\":\"#C8D4E3\"},\"line\":{\"color\":\"white\"}},\"type\":\"table\"}],\"barpolar\":[{\"marker\":{\"line\":{\"color\":\"#E5ECF6\",\"width\":0.5},\"pattern\":{\"fillmode\":\"overlay\",\"size\":10,\"solidity\":0.2}},\"type\":\"barpolar\"}],\"pie\":[{\"automargin\":true,\"type\":\"pie\"}]},\"layout\":{\"autotypenumbers\":\"strict\",\"colorway\":[\"#636efa\",\"#EF553B\",\"#00cc96\",\"#ab63fa\",\"#FFA15A\",\"#19d3f3\",\"#FF6692\",\"#B6E880\",\"#FF97FF\",\"#FECB52\"],\"font\":{\"color\":\"#2a3f5f\"},\"hovermode\":\"closest\",\"hoverlabel\":{\"align\":\"left\"},\"paper_bgcolor\":\"white\",\"plot_bgcolor\":\"#E5ECF6\",\"polar\":{\"bgcolor\":\"#E5ECF6\",\"angularaxis\":{\"gridcolor\":\"white\",\"linecolor\":\"white\",\"ticks\":\"\"},\"radialaxis\":{\"gridcolor\":\"white\",\"linecolor\":\"white\",\"ticks\":\"\"}},\"ternary\":{\"bgcolor\":\"#E5ECF6\",\"aaxis\":{\"gridcolor\":\"white\",\"linecolor\":\"white\",\"ticks\":\"\"},\"baxis\":{\"gridcolor\":\"white\",\"linecolor\":\"white\",\"ticks\":\"\"},\"caxis\":{\"gridcolor\":\"white\",\"linecolor\":\"white\",\"ticks\":\"\"}},\"coloraxis\":{\"colorbar\":{\"outlinewidth\":0,\"ticks\":\"\"}},\"colorscale\":{\"sequential\":[[0.0,\"#0d0887\"],[0.1111111111111111,\"#46039f\"],[0.2222222222222222,\"#7201a8\"],[0.3333333333333333,\"#9c179e\"],[0.4444444444444444,\"#bd3786\"],[0.5555555555555556,\"#d8576b\"],[0.6666666666666666,\"#ed7953\"],[0.7777777777777778,\"#fb9f3a\"],[0.8888888888888888,\"#fdca26\"],[1.0,\"#f0f921\"]],\"sequentialminus\":[[0.0,\"#0d0887\"],[0.1111111111111111,\"#46039f\"],[0.2222222222222222,\"#7201a8\"],[0.3333333333333333,\"#9c179e\"],[0.4444444444444444,\"#bd3786\"],[0.5555555555555556,\"#d8576b\"],[0.6666666666666666,\"#ed7953\"],[0.7777777777777778,\"#fb9f3a\"],[0.8888888888888888,\"#fdca26\"],[1.0,\"#f0f921\"]],\"diverging\":[[0,\"#8e0152\"],[0.1,\"#c51b7d\"],[0.2,\"#de77ae\"],[0.3,\"#f1b6da\"],[0.4,\"#fde0ef\"],[0.5,\"#f7f7f7\"],[0.6,\"#e6f5d0\"],[0.7,\"#b8e186\"],[0.8,\"#7fbc41\"],[0.9,\"#4d9221\"],[1,\"#276419\"]]},\"xaxis\":{\"gridcolor\":\"white\",\"linecolor\":\"white\",\"ticks\":\"\",\"title\":{\"standoff\":15},\"zerolinecolor\":\"white\",\"automargin\":true,\"zerolinewidth\":2},\"yaxis\":{\"gridcolor\":\"white\",\"linecolor\":\"white\",\"ticks\":\"\",\"title\":{\"standoff\":15},\"zerolinecolor\":\"white\",\"automargin\":true,\"zerolinewidth\":2},\"scene\":{\"xaxis\":{\"backgroundcolor\":\"#E5ECF6\",\"gridcolor\":\"white\",\"linecolor\":\"white\",\"showbackground\":true,\"ticks\":\"\",\"zerolinecolor\":\"white\",\"gridwidth\":2},\"yaxis\":{\"backgroundcolor\":\"#E5ECF6\",\"gridcolor\":\"white\",\"linecolor\":\"white\",\"showbackground\":true,\"ticks\":\"\",\"zerolinecolor\":\"white\",\"gridwidth\":2},\"zaxis\":{\"backgroundcolor\":\"#E5ECF6\",\"gridcolor\":\"white\",\"linecolor\":\"white\",\"showbackground\":true,\"ticks\":\"\",\"zerolinecolor\":\"white\",\"gridwidth\":2}},\"shapedefaults\":{\"line\":{\"color\":\"#2a3f5f\"}},\"annotationdefaults\":{\"arrowcolor\":\"#2a3f5f\",\"arrowhead\":0,\"arrowwidth\":1},\"geo\":{\"bgcolor\":\"white\",\"landcolor\":\"#E5ECF6\",\"subunitcolor\":\"white\",\"showland\":true,\"showlakes\":true,\"lakecolor\":\"white\"},\"title\":{\"x\":0.05},\"mapbox\":{\"style\":\"light\"}}},\"scene\":{\"domain\":{\"x\":[0.0,1.0],\"y\":[0.0,1.0]},\"xaxis\":{\"title\":{\"text\":\"alpha\"}},\"yaxis\":{\"title\":{\"text\":\"l1_ratio\"}},\"zaxis\":{\"title\":{\"text\":\"score\"}}},\"legend\":{\"tracegroupgap\":0},\"margin\":{\"t\":60}},                        {\"responsive\": true}                    ).then(function(){\n",
              "                            \n",
              "var gd = document.getElementById('7faec1bc-e05c-4270-bfe9-3ab05437a540');\n",
              "var x = new MutationObserver(function (mutations, observer) {{\n",
              "        var display = window.getComputedStyle(gd).display;\n",
              "        if (!display || display === 'none') {{\n",
              "            console.log([gd, 'removed!']);\n",
              "            Plotly.purge(gd);\n",
              "            observer.disconnect();\n",
              "        }}\n",
              "}});\n",
              "\n",
              "// Listen for the removal of the full notebook cells\n",
              "var notebookContainer = gd.closest('#notebook-container');\n",
              "if (notebookContainer) {{\n",
              "    x.observe(notebookContainer, {childList: true});\n",
              "}}\n",
              "\n",
              "// Listen for the clearing of the current output cell\n",
              "var outputEl = gd.closest('.output');\n",
              "if (outputEl) {{\n",
              "    x.observe(outputEl, {childList: true});\n",
              "}}\n",
              "\n",
              "                        })                };                });            </script>        </div>"
            ]
          },
          "metadata": {},
          "output_type": "display_data"
        }
      ],
      "source": [
        "# Ваш код здесь\n",
        "from hyperopt import hp, fmin, tpe, Trials\n",
        "from sklearn.metrics import mean_absolute_error\n",
        "import matplotlib.pyplot as plt\n",
        "\n",
        "def hyperopt_ElasticNet(params,X=X_scaled_poly, y=y):\n",
        "    # функция получает комбинацию гиперпараметров в \"params\"\n",
        "    \n",
        "    params = {'alpha':params['alpha'],\n",
        "              'l1_ratio':params['l1_ratio']}\n",
        "\n",
        "    # используем эту комбинацию для построения модели\n",
        "    model = ElasticNet(**params)\n",
        "    \n",
        "    score = cross_validate(model,X,y,scoring=['neg_mean_absolute_error','r2'],cv=5,return_train_score=True)['test_neg_mean_absolute_error'].mean()\n",
        "\n",
        "    # метрику необходимо минимизировать, поэтому ставим знак минус\n",
        "    return -score\n",
        "\n",
        "\n",
        "# начинаем подбор гиперпараметров\n",
        "\n",
        "trials = Trials() # используется для логирования результатов\n",
        "space={\n",
        "    'alpha':hp.quniform('alpha', 0.0001, 100,0.0001),\n",
        "#     \"alpha\": hp.choice('alpha', [0.0001, 0.001, 0.01, 0.1, 1, 10, 100]),\n",
        "       'l1_ratio':hp.quniform('l1_ratio',0.01,1,0.005)\n",
        "       }\n",
        "\n",
        "best=fmin(hyperopt_ElasticNet, # наша функция \n",
        "          space=space, # пространство гиперпараметров\n",
        "          algo=tpe.suggest, # алгоритм оптимизации, установлен по умолчанию, задавать необязательно\n",
        "          max_evals=200, # максимальное количество итераций\n",
        "          trials=trials # логирование результатов\n",
        "         )\n",
        "print(\"Наилучшие значения гиперпараметров {}\".format(best))\n",
        "\n",
        "\n",
        "\n",
        "#Инициализируем объект класса линейная регрессия с L1-регуляризацией для лучшего параметра\n",
        "ElasticNet_poly = ElasticNet(alpha = best['alpha'], l1_ratio = best['l1_ratio'] )\n",
        "  \n",
        "#Обучаем модель \n",
        "ElasticNet_poly.fit(X_scaled_poly, y)\n",
        "#Предсказываем целевую \n",
        "y_pred = ElasticNet_poly.predict(X_scaled_poly)\n",
        "\n",
        "#Выводим результирующие метрики\n",
        "\n",
        "res = cross_validate(ElasticNet_poly,X_scaled_poly,y,scoring=['neg_mean_absolute_error','r2','neg_mean_absolute_percentage_error'],cv=5,return_train_score=True)\n",
        "\n",
        "print('\\nAlpha = {2:.4f}, Тренинговые фолды: Среднее значение MAE = {0:.4f},\\\n",
        "      \\nТестовые фолды: Среднее значение MAE = {1:.4f}, MAPE = {3:.4f}'.format(\n",
        "    -res['train_neg_mean_absolute_error'].mean(),\n",
        "    -res['test_neg_mean_absolute_error'].mean(),\n",
        "    best['alpha'],\n",
        "    -res['test_neg_mean_absolute_percentage_error'].mean()\n",
        "    ) )\n",
        "\n",
        "df = pd.DataFrame(np.column_stack([trials.idxs_vals[1]['alpha'],trials.idxs_vals[1]['l1_ratio'],trials.losses()]),\n",
        "                  columns=['alpha','l1_ratio','score'])\n",
        "\n",
        "import plotly.express as px\n",
        "\n",
        "fig = px.scatter_3d(df, x='alpha', y='l1_ratio', z='score');\n",
        "fig.show();\n",
        "\n",
        "summary_log.loc['ElsasticNet'] = [best['alpha'],best['l1_ratio'],True,-res['train_neg_mean_absolute_error'].mean(),\n",
        "                                     -res['test_neg_mean_absolute_error'].mean()]\n",
        "\n"
      ]
    },
    {
      "attachments": {},
      "cell_type": "markdown",
      "id": "er2lAiE9QpAb",
      "metadata": {
        "id": "er2lAiE9QpAb"
      },
      "source": [
        "> *Ваши выводы здесь*\n",
        "\n",
        "Мы видим, что лучший результат оптимизации дает l1_ratio = 1. Это указывает на то, ElasticNet в нашем случае не эффективен и лучший результат достигается при Lasso регуляризации. \n",
        "\n",
        "Прим: Для сравнения моделей мы использовали MAE, но так как в задании указан MAPE, этот критерий также приведен в выдаче"
      ]
    },
    {
      "cell_type": "markdown",
      "id": "91c6e1d1",
      "metadata": {
        "id": "91c6e1d1"
      },
      "source": [
        "### Задание 8.5. (1 балл)\n",
        "\n",
        "Завершением вашей работы будет сводная таблица результатов, которую вы представите на презентации заказчику Василию.\n",
        "\n",
        "Составьте таблицу (DataFrame) со следующими столбцами (имена столбцов выберите самостоятельно):\n",
        "* Наименование модели.\n",
        "* Гиперпараметры (коэффициенты регуляризации, если таковые имеются), если нет — оставьте ячейку пустой.\n",
        "* Использовались ли полиномиальные признаки при построении модели (Да/Нет или True/False).\n",
        "* Значение выбранной метрики на тренировочных фолдах при кросс-валидации модели.\n",
        "* Значение выбранной метрики на валидационных фолдах при кросс-валидации модели.\n",
        "\n",
        "Сделайте финальный вывод по проделанной работе. Какая линейная модель из тех, что мы рассмотрели, показала наилучший результат с точки зрения качества на валидационных фолдах, а также с точки зрения переобученности?"
      ]
    },
    {
      "cell_type": "code",
      "execution_count": 15,
      "id": "wRiys8lKQuqW",
      "metadata": {
        "id": "wRiys8lKQuqW"
      },
      "outputs": [
        {
          "data": {
            "text/html": [
              "<div>\n",
              "<style scoped>\n",
              "    .dataframe tbody tr th:only-of-type {\n",
              "        vertical-align: middle;\n",
              "    }\n",
              "\n",
              "    .dataframe tbody tr th {\n",
              "        vertical-align: top;\n",
              "    }\n",
              "\n",
              "    .dataframe thead th {\n",
              "        text-align: right;\n",
              "    }\n",
              "</style>\n",
              "<table border=\"1\" class=\"dataframe\">\n",
              "  <thead>\n",
              "    <tr style=\"text-align: right;\">\n",
              "      <th></th>\n",
              "      <th>Alpha</th>\n",
              "      <th>L1_ratio</th>\n",
              "      <th>Polynomial</th>\n",
              "      <th>MAE_train</th>\n",
              "      <th>MAE_test</th>\n",
              "    </tr>\n",
              "  </thead>\n",
              "  <tbody>\n",
              "    <tr>\n",
              "      <th>МНК</th>\n",
              "      <td>n/a</td>\n",
              "      <td>n/a</td>\n",
              "      <td>False</td>\n",
              "      <td>150.737745</td>\n",
              "      <td>n/a</td>\n",
              "    </tr>\n",
              "    <tr>\n",
              "      <th>МНК без корр. колонок</th>\n",
              "      <td>n/a</td>\n",
              "      <td>n/a</td>\n",
              "      <td>False</td>\n",
              "      <td>168.571695</td>\n",
              "      <td>n/a</td>\n",
              "    </tr>\n",
              "    <tr>\n",
              "      <th>Библиотечная LR</th>\n",
              "      <td>n/a</td>\n",
              "      <td>n/a</td>\n",
              "      <td>False</td>\n",
              "      <td>168.571695</td>\n",
              "      <td>n/a</td>\n",
              "    </tr>\n",
              "    <tr>\n",
              "      <th>LR Scaled Poly</th>\n",
              "      <td>n/a</td>\n",
              "      <td>n/a</td>\n",
              "      <td>True</td>\n",
              "      <td>75.345310</td>\n",
              "      <td>110.473609</td>\n",
              "    </tr>\n",
              "    <tr>\n",
              "      <th>Lasso hyperopt</th>\n",
              "      <td>4.8</td>\n",
              "      <td>n/a</td>\n",
              "      <td>True</td>\n",
              "      <td>78.149226</td>\n",
              "      <td>95.675005</td>\n",
              "    </tr>\n",
              "    <tr>\n",
              "      <th>Ridge hyperopt</th>\n",
              "      <td>0.2</td>\n",
              "      <td>n/a</td>\n",
              "      <td>True</td>\n",
              "      <td>75.403257</td>\n",
              "      <td>110.069423</td>\n",
              "    </tr>\n",
              "    <tr>\n",
              "      <th>ElsasticNet</th>\n",
              "      <td>5.4725</td>\n",
              "      <td>1.0</td>\n",
              "      <td>True</td>\n",
              "      <td>78.697670</td>\n",
              "      <td>95.767486</td>\n",
              "    </tr>\n",
              "  </tbody>\n",
              "</table>\n",
              "</div>"
            ],
            "text/plain": [
              "                        Alpha L1_ratio  Polynomial   MAE_train    MAE_test\n",
              "МНК                       n/a      n/a       False  150.737745         n/a\n",
              "МНК без корр. колонок     n/a      n/a       False  168.571695         n/a\n",
              "Библиотечная LR           n/a      n/a       False  168.571695         n/a\n",
              "LR Scaled Poly            n/a      n/a        True   75.345310  110.473609\n",
              "Lasso hyperopt            4.8      n/a        True   78.149226   95.675005\n",
              "Ridge hyperopt            0.2      n/a        True   75.403257  110.069423\n",
              "ElsasticNet            5.4725      1.0        True   78.697670   95.767486"
            ]
          },
          "execution_count": 15,
          "metadata": {},
          "output_type": "execute_result"
        }
      ],
      "source": [
        "# Ваш код здесь\n",
        "\n",
        "summary_log"
      ]
    },
    {
      "attachments": {},
      "cell_type": "markdown",
      "id": "UP7_LSoEQsrA",
      "metadata": {
        "id": "UP7_LSoEQsrA"
      },
      "source": [
        "> *Ваши выводы здесь*\n",
        "\n",
        "Полиномиальная регрессия OLS и следом за ней Ridge с небольшим штрафом наилучшим образом отразили представленные данные, при этом показали плохую предсказательную способность. Лучшую предсказательную способность демострирует Lasso с коэффициентом регуляризации 4.6. Все модели имеют признаки переобучения."
      ]
    }
  ],
  "metadata": {
    "colab": {
      "provenance": []
    },
    "kernelspec": {
      "display_name": "Python 3",
      "language": "python",
      "name": "python3"
    },
    "language_info": {
      "codemirror_mode": {
        "name": "ipython",
        "version": 3
      },
      "file_extension": ".py",
      "mimetype": "text/x-python",
      "name": "python",
      "nbconvert_exporter": "python",
      "pygments_lexer": "ipython3",
      "version": "3.10.9"
    },
    "vscode": {
      "interpreter": {
        "hash": "157de69062f6fb961b2bab5028ca1d8d79da5a53723325a531349754a247d1f2"
      }
    }
  },
  "nbformat": 4,
  "nbformat_minor": 5
}
